{
 "cells": [
  {
   "cell_type": "raw",
   "metadata": {},
   "source": [
    "Some words or images here"
   ]
  },
  {
   "cell_type": "markdown",
   "metadata": {},
   "source": [
    "### 3. Арифметические и логические операции"
   ]
  },
  {
   "cell_type": "markdown",
   "metadata": {},
   "source": [
    "#### 2.1 Арифметика"
   ]
  },
  {
   "cell_type": "code",
   "execution_count": null,
   "metadata": {
    "pycharm": {
     "is_executing": false
    }
   },
   "outputs": [],
   "source": []
  },
  {
   "cell_type": "code",
   "execution_count": null,
   "metadata": {
    "pycharm": {
     "is_executing": false
    }
   },
   "outputs": [],
   "source": [
    "x = 15\n",
    "y = 8\n",
    "z = 5\n",
    "\n",
    "\"\"\" Сложение \"\"\"\n",
    "summ = x + y\n",
    "\n",
    "\"\"\" Вычитание \"\"\"\n",
    "diff = x - y\n",
    "\n",
    "\"\"\" Умножение \"\"\"\n",
    "prod = x * y\n",
    "\n",
    "\"\"\" Целое Деление \"\"\"\n",
    "div_int = x // y\n",
    "\n",
    "\"\"\" Десятичное Деление \"\"\"\n",
    "div_floor = x / y\n",
    "\n",
    "\"\"\" Остаток от деления \"\"\"\n",
    "remainder = x % y\n",
    "\n",
    "\"\"\"  вВозведение в Cтепень \"\"\"\n",
    "exp = y ** z"
   ]
  },
  {
   "cell_type": "code",
   "execution_count": null,
   "metadata": {
    "pycharm": {
     "is_executing": false
    }
   },
   "outputs": [],
   "source": [
    "print(\"Cумма {} и {}: {}\".format(x, y, summ))\n",
    "print(\"Разница {} и {}: {}\".format(x, y, diff))\n",
    "print(\"Произведение {} и {}: {}\".format(x, y, prod))\n",
    "print(\"Целое деление {} и {}: {}\".format(x, y, div_int))\n",
    "print(\"Десятичное деление {} и {}: {}\".format(x, y, div_floor))\n",
    "print(\"Oстаток от деления {} на {}: {}\".format(x, y, remainder))\n",
    "print(\"{} в степени {}: {}\".format(y, z, exp))"
   ]
  },
  {
   "cell_type": "code",
   "execution_count": null,
   "metadata": {
    "pycharm": {
     "is_executing": false
    }
   },
   "outputs": [],
   "source": [
    "print(((4*4)-5)-(25/5))  # арифметицеское выражение "
   ]
  },
  {
   "cell_type": "code",
   "execution_count": null,
   "metadata": {
    "pycharm": {
     "is_executing": false
    }
   },
   "outputs": [],
   "source": [
    "import math   # куда надо постучать чтобы что-то взять, по умолчанию питон не будет тянуть все библиотеки,\n",
    "#кроме стандартной библиотеки \n",
    "\n",
    "help(math)"
   ]
  },
  {
   "cell_type": "code",
   "execution_count": null,
   "metadata": {
    "pycharm": {
     "is_executing": false
    }
   },
   "outputs": [],
   "source": [
    "c=-4\n",
    "pi=int(3.14)\n",
    "print(pi)\n",
    "print(math.pi) # правильный пи\n",
    "\n",
    "print(abs(c)) # модуль числа или абсол. число\n",
    "print(pow(c,2),c**2,math.pow(c,4)) # квадрат числа\n",
    "print()"
   ]
  },
  {
   "cell_type": "code",
   "execution_count": null,
   "metadata": {
    "pycharm": {
     "is_executing": false
    }
   },
   "outputs": [],
   "source": [
    "g=4.228635346\n",
    "print(round(g),round(g,3))"
   ]
  },
  {
   "cell_type": "markdown",
   "metadata": {},
   "source": [
    "### Задача \n",
    "Посчитать площадь по формуле: \tA = πr^2,"
   ]
  },
  {
   "cell_type": "code",
   "execution_count": null,
   "metadata": {
    "pycharm": {
     "is_executing": false
    }
   },
   "outputs": [],
   "source": [
    "S=2*math.pi*2**2\n",
    "print(S)"
   ]
  },
  {
   "cell_type": "markdown",
   "metadata": {},
   "source": [
    "#### 2.2. Операторы присвоения"
   ]
  },
  {
   "cell_type": "code",
   "execution_count": null,
   "metadata": {
    "pycharm": {
     "is_executing": false
    }
   },
   "outputs": [],
   "source": [
    "x = 5  \n",
    "x += 3 # x=x+3\n",
    "x -= 3 # x=x-3\n",
    "x *= 3 # x=x*3\n",
    "x /= 3 # x=x/3\n",
    "x %= 3 # x=x%3\n",
    "x //= 3 # x=x//3  выдает только челое число\n",
    "x **= 3 \n",
    "print(x)"
   ]
  },
  {
   "cell_type": "code",
   "execution_count": null,
   "metadata": {
    "pycharm": {
     "is_executing": false
    }
   },
   "outputs": [],
   "source": [
    "q=3.455334\n",
    "# целое число, ближайшее целое снизу, ближайшее целое сверху\n",
    "print(math.trunc(q),math.ceil(q),math.floor(q)) \n"
   ]
  },
  {
   "cell_type": "markdown",
   "metadata": {},
   "source": [
    "#### 2.3. Операторы сравнения"
   ]
  },
  {
   "cell_type": "raw",
   "metadata": {},
   "source": [
    "Операторы сравнения пишутся между двумя значениями или переменными и возвращают булевое значения - True или False"
   ]
  },
  {
   "cell_type": "code",
   "execution_count": null,
   "metadata": {
    "pycharm": {
     "is_executing": false
    },
    "scrolled": true
   },
   "outputs": [],
   "source": [
    "x = 15\n",
    "y = 10\n",
    "z = 10\n",
    "\n",
    "\"\"\" Равно \"\"\"\n",
    "print(\"{} и {} равны: {}\".format(y, z, (y == z)))\n",
    "print(\"{} и {} равны: {}\".format(x, z, (x == z)))\n",
    "\n",
    "\"\"\" Не равно \"\"\"\n",
    "print(\"{} и {} не равны: {}\".format(y, z, (y != z)))\n",
    "print(\"{} и {} не равны: {}\".format(x, z, (x != z)))\n",
    "\n",
    "\"\"\" Больше \"\"\"\n",
    "print(\"{} больше {}: {}\".format(y, z, (y > z)))\n",
    "print(\"{} больше {}: {}\".format(x, z, (x > z)))\n",
    "\n",
    "\"\"\" Меньше \"\"\"\n",
    "print(\"{} меньше {}: {}\".format(y, z, (y < z)))\n",
    "print(\"{} меньше {}: {}\".format(x, z, (z < x)))\n",
    "\n",
    "\"\"\" Больше или равно \"\"\"\n",
    "print(\"{} больше или равно {}: {}\".format(y, z, (y >= z)))\n",
    "print(\"{} больше или равно {}: {}\".format(x, z, (x >= z)))\n",
    "\n",
    "\"\"\" Меньше или равно \"\"\"\n",
    "print(\"{} меньше или равно {}: {}\".format(y, z, (y <= z)))\n",
    "print(\"{} меньше или равно {}: {}\".format(x, z, (x <= z)))\n",
    "\n"
   ]
  },
  {
   "cell_type": "code",
   "execution_count": null,
   "metadata": {
    "pycharm": {
     "is_executing": false
    }
   },
   "outputs": [],
   "source": [
    "print(y is x) # идентичность объектов в памяти\n",
    "print(y is not z) # объекты разные"
   ]
  },
  {
   "cell_type": "markdown",
   "metadata": {},
   "source": [
    "#### Comparison of IDs and values (ай и значение)"
   ]
  },
  {
   "cell_type": "code",
   "execution_count": null,
   "metadata": {
    "pycharm": {
     "is_executing": false
    }
   },
   "outputs": [],
   "source": [
    "string='walk'\n",
    "string_2=string\n",
    "string_3=input('Введите строку: ')\n",
    "print(string is string_2)\n",
    "print(string is string_3)\n",
    "print(string==string_3)\n",
    "\n",
    "# Python does not know what we are going to enter in string_3, hence it creates different object in memory, создает отдельный участок в памяти \n",
    "# their ids are different, but their значение equal, input automatically creates and returns string always"
   ]
  },
  {
   "cell_type": "markdown",
   "metadata": {},
   "source": [
    "### input function\n"
   ]
  },
  {
   "cell_type": "code",
   "execution_count": null,
   "metadata": {
    "pycharm": {
     "is_executing": false
    }
   },
   "outputs": [],
   "source": [
    "\n",
    "a=int(input(\"Введите число: \"))\n",
    "print(type(a))\n",
    "b=int(input(\"Введите второе число: \"))\n",
    "input(\"Нажмите Enter для продолжения \")\n",
    "print(a,\" + \",b,\" = \",a+b)\n"
   ]
  },
  {
   "cell_type": "markdown",
   "metadata": {},
   "source": [
    "### name function"
   ]
  },
  {
   "cell_type": "code",
   "execution_count": null,
   "metadata": {
    "pycharm": {
     "is_executing": false
    }
   },
   "outputs": [],
   "source": [
    "name=input('Whats your name >>>')\n",
    "print(\"hello \",name)\n",
    "name_count1=float(input('Enter first number' ))\n",
    "name_count2=float(input('Enter second number' ))\n",
    "print(name, \"total number of entered number is \", name_count1+name_count2)\n",
    "\n",
    "print(not True or False )  # "
   ]
  },
  {
   "cell_type": "markdown",
   "metadata": {},
   "source": [
    "### print function\n"
   ]
  },
  {
   "cell_type": "code",
   "execution_count": null,
   "metadata": {
    "pycharm": {
     "is_executing": false
    }
   },
   "outputs": [],
   "source": [
    "print(5,4,3, sep='----')\n",
    "print('Nur','Sultan', sep='-')\n",
    "print('Asta','na', sep='')\n",
    "\n",
    "## указываем конец строки\n",
    "print('Men Astanada turamin',end='!\\n\\n')\n",
    "print('Men Astanada turamin',end='\\n\\n') # два перевода строки\n",
    "print('Nur',end='')\n",
    "print('-Sultan')\n",
    "\n"
   ]
  },
  {
   "cell_type": "markdown",
   "metadata": {},
   "source": [
    "#### 2.4. Логические операторы: and, or, not\n",
    "\n",
    "True  - в контексте математики это 1\n",
    "\n",
    "False - в контексте математики это 0\n",
    "\n",
    "and - в контексте математики это *\n",
    "\n",
    "or - в контексте математики это +\n",
    "\n",
    "not - делает инверсию \n",
    "\n",
    "\n",
    "![Indices](img/truth-table.png \"Truth table\")\n",
    "https://www.w3schools.com/python/python_operators.asp\n",
    "\n",
    " "
   ]
  },
  {
   "cell_type": "code",
   "execution_count": null,
   "metadata": {
    "pycharm": {
     "is_executing": false
    }
   },
   "outputs": [],
   "source": [
    "a = True  # в контексте математики это 1\n",
    "b = False # в контексте математики это 0\n",
    "c = True  # 1\n",
    "\n",
    "print(a and b)\n",
    "print(a and c)\n",
    "print(a or c)\n",
    "print(b or a)\n",
    "print(not c)"
   ]
  },
  {
   "cell_type": "markdown",
   "metadata": {},
   "source": [
    "### 4. Принятие решений\n",
    "\n"
   ]
  },
  {
   "cell_type": "markdown",
   "metadata": {},
   "source": [
    "#### 4.1 If ... else\n",
    "\n"
   ]
  },
  {
   "cell_type": "raw",
   "metadata": {},
   "source": [
    "Вспомним:\n",
    "Равно: a == b\n",
    "Не равно: a != b\n",
    "Меньше чем: a < b\n",
    "Меньше или равно: a <= b\n",
    "Больше: a > b\n",
    "Больше или равно: a >= b"
   ]
  },
  {
   "cell_type": "code",
   "execution_count": null,
   "metadata": {},
   "outputs": [],
   "source": []
  },
  {
   "cell_type": "code",
   "execution_count": null,
   "metadata": {
    "pycharm": {
     "is_executing": false
    }
   },
   "outputs": [],
   "source": [
    "animal = \"dog\"\n",
    "if animal == \"dog\":  # if true, then executes this statement, else moves to the next elif. If second elif is \n",
    "    print(\"WOOF!\")\n",
    "elif animal == \"cow\":\n",
    "    print(\"MOOO!\")\n",
    "else:\n",
    "    print(\"zzz\")"
   ]
  },
  {
   "cell_type": "raw",
   "metadata": {},
   "source": [
    "Структура в коде следующая:\n",
    "if <condition 1>:\n",
    "    <do something 1>\n",
    "elif <condition 2>:\n",
    "    <do something 2>\n",
    "elif <condition 3>:\n",
    "    <do something 3>\n",
    "else:\n",
    "    <do something 4>\n",
    "    \n",
    "1. <condition> может быть только логическое значение (True или False)\n",
    "2. Следующая после if/elif/else линия должна быть <tabbed>(indentation)\n",
    "3. else и elif не допускается без if\n",
    "4. Двоеточие после <condition> обязательно\n",
    "5: Блок кода после <condition> ограничивается отступами - Indentation"
   ]
  },
  {
   "cell_type": "code",
   "execution_count": null,
   "metadata": {
    "pycharm": {
     "is_executing": false
    }
   },
   "outputs": [],
   "source": [
    "#![Image of Yaktocat](http://localhost:8888/view/Desktop/DevSteppe%20Macbook%20pro/Python-Intro-to-DS-master%20v%202/week_02/img/if-stat-indentation.jpeg)\n",
    "\n",
    "# from IPython.display import Image\n",
    "# from IPython.core.display import HTML \n",
    "# Image(url= \"https://github.com/devsteppe/Python-Intro-to-DS/blob/master/week_02/img/if-stat-indentation.jpeg\")\n",
    "\n",
    "#Важно! Indentation!\n",
    "\n",
    "#![Data Science tasks](https://github.com/devsteppe/Python-Intro-to-DS/blob/master/week_02/img/if-stat-indentation.jpeg)\n",
    "\n",
    "\n",
    "#<p style='text-align:center'>_([source](http://drewconway.com/zia/2013/3/26/the-data-science-venn-diagram))_</p>\n",
    "\n",
    "\n",
    "#В Python блоки кода разграничиваются отступами (Indentation) - пропуски в начале линии(4 пропуска или TAB).\n",
    "\n",
    "#Основная инструкция:\n",
    "#    Вложенный блок инструкций\n",
    "\n",
    "#https://pythonworld.ru/osnovy/sintaksis-yazyka-python.html\n",
    "\n"
   ]
  },
  {
   "cell_type": "markdown",
   "metadata": {},
   "source": [
    "Zhanibek = 21\n",
    "Aslan = 21\n",
    "if Aslan > Zhanibek:\n",
    "    print(\"Aslan is older than Zhanibek\")\n",
    "elif Aslan == Zhanibek:\n",
    "    print(f\"Aslan and Zhanibek are both {Aslan} years old\")\n",
    "else:\n",
    "    print(\"Aslan is younger than Zhanibek\")"
   ]
  },
  {
   "cell_type": "code",
   "execution_count": null,
   "metadata": {
    "pycharm": {
     "is_executing": false
    }
   },
   "outputs": [],
   "source": [
    "salary = 130000\n",
    "if salary <= 150000:\n",
    "    print(\"Junior\")\n",
    "elif salary > 150000 and salary < 300000:\n",
    "    print(\"Middle\")\n",
    "else:\n",
    "    print(\"Senior\")"
   ]
  },
  {
   "cell_type": "raw",
   "metadata": {},
   "source": [
    "Иные способы"
   ]
  },
  {
   "cell_type": "code",
   "execution_count": null,
   "metadata": {
    "pycharm": {
     "is_executing": false
    }
   },
   "outputs": [],
   "source": [
    "student = True\n",
    "if student: print(\"Проходи, студент!\")\n",
    "else: print(\"Посторонним нельзя!\")"
   ]
  },
  {
   "cell_type": "code",
   "execution_count": null,
   "metadata": {
    "pycharm": {
     "is_executing": false
    }
   },
   "outputs": [],
   "source": [
    "a = 4\n",
    "b = 3\n",
    "print(\"A\") if a > b else print(\"B\")"
   ]
  },
  {
   "cell_type": "code",
   "execution_count": 1,
   "metadata": {
    "pycharm": {
     "is_executing": false
    }
   },
   "outputs": [
    {
     "name": "stdout",
     "output_type": "stream",
     "text": [
      "None\n",
      "value is None\n",
      ">>>Beg\n"
     ]
    }
   ],
   "source": [
    "value=None\n",
    "\n",
    "if value is not None:\n",
    "    print('Not None')\n",
    "    \n",
    "if value is None:\n",
    "    print('None')\n",
    "    \n",
    "# if value:\n",
    "#     print('value is',value)\n",
    "\n",
    "if not bool(value)+True-1:  \n",
    "    print('value is',value)\n",
    "    \n",
    "value=input('>>>')\n",
    "if bool(\"\"):  # if empty string, its false hence system will not allow to login\n",
    "    print(bool(value))"
   ]
  },
  {
   "cell_type": "markdown",
   "metadata": {},
   "source": [
    "#### If line  "
   ]
  },
  {
   "cell_type": "code",
   "execution_count": 5,
   "metadata": {},
   "outputs": [
    {
     "name": "stdout",
     "output_type": "stream",
     "text": [
      "X==-4\n",
      "-3\n"
     ]
    }
   ],
   "source": [
    "x=int(input('X=='))\n",
    "if x<0:x+=1;\n",
    "print(x)"
   ]
  },
  {
   "cell_type": "code",
   "execution_count": null,
   "metadata": {},
   "outputs": [],
   "source": []
  }
 ],
 "metadata": {
  "kernelspec": {
   "display_name": "Python 3",
   "language": "python",
   "name": "python3"
  },
  "language_info": {
   "codemirror_mode": {
    "name": "ipython",
    "version": 3
   },
   "file_extension": ".py",
   "mimetype": "text/x-python",
   "name": "python",
   "nbconvert_exporter": "python",
   "pygments_lexer": "ipython3",
   "version": "3.7.4"
  },
  "pycharm": {
   "stem_cell": {
    "cell_type": "raw",
    "metadata": {
     "collapsed": false
    },
    "source": []
   }
  }
 },
 "nbformat": 4,
 "nbformat_minor": 2
}
