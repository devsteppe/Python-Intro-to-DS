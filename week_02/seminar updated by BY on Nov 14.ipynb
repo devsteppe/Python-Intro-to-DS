{
 "cells": [
  {
   "cell_type": "raw",
   "metadata": {},
   "source": [
    "Some words or images here"
   ]
  },
  {
   "cell_type": "markdown",
   "metadata": {},
   "source": [
    "### 3. Арифметические и логические операции"
   ]
  },
  {
   "cell_type": "markdown",
   "metadata": {},
   "source": [
    "#### 2.1 Арифметика"
   ]
  },
  {
   "cell_type": "code",
   "execution_count": 3,
   "metadata": {
    "pycharm": {
     "is_executing": false
    }
   },
   "outputs": [],
   "source": [
    "x = 15\n",
    "y = 8\n",
    "z = 5\n",
    "\n",
    "\"\"\" Сложение \"\"\"\n",
    "summ = x + y\n",
    "\n",
    "\"\"\" Вычитание \"\"\"\n",
    "diff = x - y\n",
    "\n",
    "\"\"\" Умножение \"\"\"\n",
    "prod = x * y\n",
    "\n",
    "\"\"\" Целое Деление \"\"\"\n",
    "div_int = x // y\n",
    "\n",
    "\"\"\" Десятичное Деление \"\"\"\n",
    "div_floor = x / y\n",
    "\n",
    "\"\"\" Остаток от деления \"\"\"\n",
    "remainder = x % y\n",
    "\n",
    "\"\"\"  вВозведение в Cтепень \"\"\"\n",
    "exp = y ** z"
   ]
  },
  {
   "cell_type": "code",
   "execution_count": 4,
   "metadata": {
    "pycharm": {
     "is_executing": false
    }
   },
   "outputs": [
    {
     "name": "stdout",
     "output_type": "stream",
     "text": [
      "Cумма 15 и 8: 23\n",
      "Разница 15 и 8: 7\n",
      "Произведение 15 и 8: 120\n",
      "Целое деление 15 и 8: 1\n",
      "Десятичное деление 15 и 8: 1.875\n",
      "Oстаток от деления 15 на 8: 7\n",
      "8 в степени 5: 32768\n"
     ]
    }
   ],
   "source": [
    "print(\"Cумма {} и {}: {}\".format(x, y, summ))\n",
    "print(\"Разница {} и {}: {}\".format(x, y, diff))\n",
    "print(\"Произведение {} и {}: {}\".format(x, y, prod))\n",
    "print(\"Целое деление {} и {}: {}\".format(x, y, div_int))\n",
    "print(\"Десятичное деление {} и {}: {}\".format(x, y, div_floor))\n",
    "print(\"Oстаток от деления {} на {}: {}\".format(x, y, remainder))\n",
    "print(\"{} в степени {}: {}\".format(y, z, exp))"
   ]
  },
  {
   "cell_type": "code",
   "execution_count": 5,
   "metadata": {
    "pycharm": {
     "is_executing": false
    }
   },
   "outputs": [
    {
     "name": "stdout",
     "output_type": "stream",
     "text": [
      "6.0\n"
     ]
    }
   ],
   "source": [
    "print(((4*4)-5)-(25/5))  # арифметицеское выражение "
   ]
  },
  {
   "cell_type": "code",
   "execution_count": 6,
   "metadata": {
    "collapsed": true,
    "pycharm": {
     "is_executing": false
    }
   },
   "outputs": [
    {
     "name": "stdout",
     "output_type": "stream",
     "text": [
      "Help on built-in module math:\n",
      "\n",
      "NAME\n",
      "    math\n",
      "\n",
      "DESCRIPTION\n",
      "    This module is always available.  It provides access to the\n",
      "    mathematical functions defined by the C standard.\n",
      "\n",
      "FUNCTIONS\n",
      "    acos(...)\n",
      "        acos(x)\n",
      "        \n",
      "        Return the arc cosine (measured in radians) of x.\n",
      "    \n",
      "    acosh(...)\n",
      "        acosh(x)\n",
      "        \n",
      "        Return the inverse hyperbolic cosine of x.\n",
      "    \n",
      "    asin(...)\n",
      "        asin(x)\n",
      "        \n",
      "        Return the arc sine (measured in radians) of x.\n",
      "    \n",
      "    asinh(...)\n",
      "        asinh(x)\n",
      "        \n",
      "        Return the inverse hyperbolic sine of x.\n",
      "    \n",
      "    atan(...)\n",
      "        atan(x)\n",
      "        \n",
      "        Return the arc tangent (measured in radians) of x.\n",
      "    \n",
      "    atan2(...)\n",
      "        atan2(y, x)\n",
      "        \n",
      "        Return the arc tangent (measured in radians) of y/x.\n",
      "        Unlike atan(y/x), the signs of both x and y are considered.\n",
      "    \n",
      "    atanh(...)\n",
      "        atanh(x)\n",
      "        \n",
      "        Return the inverse hyperbolic tangent of x.\n",
      "    \n",
      "    ceil(...)\n",
      "        ceil(x)\n",
      "        \n",
      "        Return the ceiling of x as an Integral.\n",
      "        This is the smallest integer >= x.\n",
      "    \n",
      "    copysign(...)\n",
      "        copysign(x, y)\n",
      "        \n",
      "        Return a float with the magnitude (absolute value) of x but the sign \n",
      "        of y. On platforms that support signed zeros, copysign(1.0, -0.0) \n",
      "        returns -1.0.\n",
      "    \n",
      "    cos(...)\n",
      "        cos(x)\n",
      "        \n",
      "        Return the cosine of x (measured in radians).\n",
      "    \n",
      "    cosh(...)\n",
      "        cosh(x)\n",
      "        \n",
      "        Return the hyperbolic cosine of x.\n",
      "    \n",
      "    degrees(...)\n",
      "        degrees(x)\n",
      "        \n",
      "        Convert angle x from radians to degrees.\n",
      "    \n",
      "    erf(...)\n",
      "        erf(x)\n",
      "        \n",
      "        Error function at x.\n",
      "    \n",
      "    erfc(...)\n",
      "        erfc(x)\n",
      "        \n",
      "        Complementary error function at x.\n",
      "    \n",
      "    exp(...)\n",
      "        exp(x)\n",
      "        \n",
      "        Return e raised to the power of x.\n",
      "    \n",
      "    expm1(...)\n",
      "        expm1(x)\n",
      "        \n",
      "        Return exp(x)-1.\n",
      "        This function avoids the loss of precision involved in the direct evaluation of exp(x)-1 for small x.\n",
      "    \n",
      "    fabs(...)\n",
      "        fabs(x)\n",
      "        \n",
      "        Return the absolute value of the float x.\n",
      "    \n",
      "    factorial(...)\n",
      "        factorial(x) -> Integral\n",
      "        \n",
      "        Find x!. Raise a ValueError if x is negative or non-integral.\n",
      "    \n",
      "    floor(...)\n",
      "        floor(x)\n",
      "        \n",
      "        Return the floor of x as an Integral.\n",
      "        This is the largest integer <= x.\n",
      "    \n",
      "    fmod(...)\n",
      "        fmod(x, y)\n",
      "        \n",
      "        Return fmod(x, y), according to platform C.  x % y may differ.\n",
      "    \n",
      "    frexp(...)\n",
      "        frexp(x)\n",
      "        \n",
      "        Return the mantissa and exponent of x, as pair (m, e).\n",
      "        m is a float and e is an int, such that x = m * 2.**e.\n",
      "        If x is 0, m and e are both 0.  Else 0.5 <= abs(m) < 1.0.\n",
      "    \n",
      "    fsum(...)\n",
      "        fsum(iterable)\n",
      "        \n",
      "        Return an accurate floating point sum of values in the iterable.\n",
      "        Assumes IEEE-754 floating point arithmetic.\n",
      "    \n",
      "    gamma(...)\n",
      "        gamma(x)\n",
      "        \n",
      "        Gamma function at x.\n",
      "    \n",
      "    gcd(...)\n",
      "        gcd(x, y) -> int\n",
      "        greatest common divisor of x and y\n",
      "    \n",
      "    hypot(...)\n",
      "        hypot(x, y)\n",
      "        \n",
      "        Return the Euclidean distance, sqrt(x*x + y*y).\n",
      "    \n",
      "    isclose(...)\n",
      "        isclose(a, b, *, rel_tol=1e-09, abs_tol=0.0) -> bool\n",
      "        \n",
      "        Determine whether two floating point numbers are close in value.\n",
      "        \n",
      "           rel_tol\n",
      "               maximum difference for being considered \"close\", relative to the\n",
      "               magnitude of the input values\n",
      "            abs_tol\n",
      "               maximum difference for being considered \"close\", regardless of the\n",
      "               magnitude of the input values\n",
      "        \n",
      "        Return True if a is close in value to b, and False otherwise.\n",
      "        \n",
      "        For the values to be considered close, the difference between them\n",
      "        must be smaller than at least one of the tolerances.\n",
      "        \n",
      "        -inf, inf and NaN behave similarly to the IEEE 754 Standard.  That\n",
      "        is, NaN is not close to anything, even itself.  inf and -inf are\n",
      "        only close to themselves.\n",
      "    \n",
      "    isfinite(...)\n",
      "        isfinite(x) -> bool\n",
      "        \n",
      "        Return True if x is neither an infinity nor a NaN, and False otherwise.\n",
      "    \n",
      "    isinf(...)\n",
      "        isinf(x) -> bool\n",
      "        \n",
      "        Return True if x is a positive or negative infinity, and False otherwise.\n",
      "    \n",
      "    isnan(...)\n",
      "        isnan(x) -> bool\n",
      "        \n",
      "        Return True if x is a NaN (not a number), and False otherwise.\n",
      "    \n",
      "    ldexp(...)\n",
      "        ldexp(x, i)\n",
      "        \n",
      "        Return x * (2**i).\n",
      "    \n",
      "    lgamma(...)\n",
      "        lgamma(x)\n",
      "        \n",
      "        Natural logarithm of absolute value of Gamma function at x.\n",
      "    \n",
      "    log(...)\n",
      "        log(x[, base])\n",
      "        \n",
      "        Return the logarithm of x to the given base.\n",
      "        If the base not specified, returns the natural logarithm (base e) of x.\n",
      "    \n",
      "    log10(...)\n",
      "        log10(x)\n",
      "        \n",
      "        Return the base 10 logarithm of x.\n",
      "    \n",
      "    log1p(...)\n",
      "        log1p(x)\n",
      "        \n",
      "        Return the natural logarithm of 1+x (base e).\n",
      "        The result is computed in a way which is accurate for x near zero.\n",
      "    \n",
      "    log2(...)\n",
      "        log2(x)\n",
      "        \n",
      "        Return the base 2 logarithm of x.\n",
      "    \n",
      "    modf(...)\n",
      "        modf(x)\n",
      "        \n",
      "        Return the fractional and integer parts of x.  Both results carry the sign\n",
      "        of x and are floats.\n",
      "    \n",
      "    pow(...)\n",
      "        pow(x, y)\n",
      "        \n",
      "        Return x**y (x to the power of y).\n",
      "    \n",
      "    radians(...)\n",
      "        radians(x)\n",
      "        \n",
      "        Convert angle x from degrees to radians.\n",
      "    \n",
      "    sin(...)\n",
      "        sin(x)\n",
      "        \n",
      "        Return the sine of x (measured in radians).\n",
      "    \n",
      "    sinh(...)\n",
      "        sinh(x)\n",
      "        \n",
      "        Return the hyperbolic sine of x.\n",
      "    \n",
      "    sqrt(...)\n",
      "        sqrt(x)\n",
      "        \n",
      "        Return the square root of x.\n",
      "    \n",
      "    tan(...)\n",
      "        tan(x)\n",
      "        \n",
      "        Return the tangent of x (measured in radians).\n",
      "    \n",
      "    tanh(...)\n",
      "        tanh(x)\n",
      "        \n",
      "        Return the hyperbolic tangent of x.\n",
      "    \n",
      "    trunc(...)\n",
      "        trunc(x:Real) -> Integral\n",
      "        \n",
      "        Truncates x to the nearest Integral toward 0. Uses the __trunc__ magic method.\n",
      "\n",
      "DATA\n",
      "    e = 2.718281828459045\n",
      "    inf = inf\n",
      "    nan = nan\n",
      "    pi = 3.141592653589793\n",
      "    tau = 6.283185307179586\n",
      "\n",
      "FILE\n",
      "    (built-in)\n",
      "\n",
      "\n"
     ]
    }
   ],
   "source": [
    "import math   # куда надо постучать чтобы что-то взять, по умолчанию питон не будет тянуть все библиотеки,\n",
    "#кроме стандартной библиотеки \n",
    "\n",
    "help(math)"
   ]
  },
  {
   "cell_type": "code",
   "execution_count": 9,
   "metadata": {
    "pycharm": {
     "is_executing": false
    }
   },
   "outputs": [
    {
     "name": "stdout",
     "output_type": "stream",
     "text": [
      "3\n",
      "3.141592653589793\n",
      "4\n",
      "16 16 256.0\n",
      "\n"
     ]
    }
   ],
   "source": [
    "c=-4\n",
    "pi=int(3.14)\n",
    "print(pi)\n",
    "print(math.pi) # правильный пи\n",
    "\n",
    "print(abs(c)) # модуль числа или абсол. число\n",
    "print(pow(c,2),c**2,math.pow(c,4)) # квадрат числа\n",
    "print()"
   ]
  },
  {
   "cell_type": "code",
   "execution_count": 10,
   "metadata": {
    "pycharm": {
     "is_executing": false
    }
   },
   "outputs": [
    {
     "name": "stdout",
     "output_type": "stream",
     "text": [
      "4 4.229\n"
     ]
    }
   ],
   "source": [
    "g=4.228635346\n",
    "print(round(g),round(g,3))"
   ]
  },
  {
   "cell_type": "markdown",
   "metadata": {},
   "source": [
    "### Задача \n",
    "Посчитать площадь по формуле: \tA = πr^2,"
   ]
  },
  {
   "cell_type": "code",
   "execution_count": 11,
   "metadata": {
    "pycharm": {
     "is_executing": false
    }
   },
   "outputs": [
    {
     "name": "stdout",
     "output_type": "stream",
     "text": [
      "25.132741228718345\n"
     ]
    }
   ],
   "source": [
    "S=2*math.pi*2**2\n",
    "print(S)"
   ]
  },
  {
   "cell_type": "markdown",
   "metadata": {},
   "source": [
    "#### 2.2. Операторы присвоения"
   ]
  },
  {
   "cell_type": "code",
   "execution_count": 12,
   "metadata": {
    "pycharm": {
     "is_executing": false
    }
   },
   "outputs": [
    {
     "name": "stdout",
     "output_type": "stream",
     "text": [
      "0.0\n"
     ]
    }
   ],
   "source": [
    "x = 5  \n",
    "x += 3 # x=x+3\n",
    "x -= 3 # x=x-3\n",
    "x *= 3 # x=x*3\n",
    "x /= 3 # x=x/3\n",
    "x %= 3 # x=x%3\n",
    "x //= 3 # x=x//3  выдает только челое число\n",
    "x **= 3 \n",
    "print(x)"
   ]
  },
  {
   "cell_type": "code",
   "execution_count": 13,
   "metadata": {
    "pycharm": {
     "is_executing": false
    }
   },
   "outputs": [
    {
     "name": "stdout",
     "output_type": "stream",
     "text": [
      "3 4 3\n"
     ]
    }
   ],
   "source": [
    "q=3.455334\n",
    "# целое число, ближайшее целое снизу, ближайшее целое сверху\n",
    "print(math.trunc(q),math.ceil(q),math.floor(q)) \n"
   ]
  },
  {
   "cell_type": "markdown",
   "metadata": {},
   "source": [
    "#### 2.3. Операторы сравнения"
   ]
  },
  {
   "cell_type": "raw",
   "metadata": {},
   "source": [
    "Операторы сравнения пишутся между двумя значениями или переменными и возвращают булевое значения - True или False"
   ]
  },
  {
   "cell_type": "code",
   "execution_count": 14,
   "metadata": {
    "pycharm": {
     "is_executing": false
    },
    "scrolled": true
   },
   "outputs": [
    {
     "name": "stdout",
     "output_type": "stream",
     "text": [
      "10 и 10 равны: True\n",
      "15 и 10 равны: False\n",
      "10 и 10 не равны: False\n",
      "15 и 10 не равны: True\n",
      "10 больше 10: False\n",
      "15 больше 10: True\n",
      "10 меньше 10: False\n",
      "15 меньше 10: True\n",
      "10 больше или равно 10: True\n",
      "15 больше или равно 10: True\n",
      "10 меньше или равно 10: True\n",
      "15 меньше или равно 10: False\n"
     ]
    }
   ],
   "source": [
    "x = 15\n",
    "y = 10\n",
    "z = 10\n",
    "\n",
    "\"\"\" Равно \"\"\"\n",
    "print(\"{} и {} равны: {}\".format(y, z, (y == z)))\n",
    "print(\"{} и {} равны: {}\".format(x, z, (x == z)))\n",
    "\n",
    "\"\"\" Не равно \"\"\"\n",
    "print(\"{} и {} не равны: {}\".format(y, z, (y != z)))\n",
    "print(\"{} и {} не равны: {}\".format(x, z, (x != z)))\n",
    "\n",
    "\"\"\" Больше \"\"\"\n",
    "print(\"{} больше {}: {}\".format(y, z, (y > z)))\n",
    "print(\"{} больше {}: {}\".format(x, z, (x > z)))\n",
    "\n",
    "\"\"\" Меньше \"\"\"\n",
    "print(\"{} меньше {}: {}\".format(y, z, (y < z)))\n",
    "print(\"{} меньше {}: {}\".format(x, z, (z < x)))\n",
    "\n",
    "\"\"\" Больше или равно \"\"\"\n",
    "print(\"{} больше или равно {}: {}\".format(y, z, (y >= z)))\n",
    "print(\"{} больше или равно {}: {}\".format(x, z, (x >= z)))\n",
    "\n",
    "\"\"\" Меньше или равно \"\"\"\n",
    "print(\"{} меньше или равно {}: {}\".format(y, z, (y <= z)))\n",
    "print(\"{} меньше или равно {}: {}\".format(x, z, (x <= z)))\n",
    "\n"
   ]
  },
  {
   "cell_type": "code",
   "execution_count": 15,
   "metadata": {
    "pycharm": {
     "is_executing": false
    }
   },
   "outputs": [
    {
     "name": "stdout",
     "output_type": "stream",
     "text": [
      "False\n",
      "False\n"
     ]
    }
   ],
   "source": [
    "print(y is x) # идентичность объектов в памяти\n",
    "print(y is not z) # объекты разные"
   ]
  },
  {
   "cell_type": "markdown",
   "metadata": {},
   "source": [
    "#### Comparison of IDs and values (ай и значение)"
   ]
  },
  {
   "cell_type": "code",
   "execution_count": 17,
   "metadata": {
    "pycharm": {
     "is_executing": false
    }
   },
   "outputs": [
    {
     "name": "stdout",
     "output_type": "stream",
     "text": [
      "Введите строку: asd\n",
      "True\n",
      "False\n",
      "False\n"
     ]
    }
   ],
   "source": [
    "string='walk'\n",
    "string_2=string\n",
    "string_3=input('Введите строку: ')\n",
    "print(string is string_2)\n",
    "print(string is string_3)\n",
    "print(string==string_3)\n",
    "\n",
    "# Python does not know what we are going to enter in string_3, hence it creates different object in memory, создает отдельный участок в памяти \n",
    "# their ids are different, but their значение equal, input automatically creates and returns string always"
   ]
  },
  {
   "cell_type": "markdown",
   "metadata": {},
   "source": [
    "### input function\n"
   ]
  },
  {
   "cell_type": "code",
   "execution_count": 19,
   "metadata": {
    "pycharm": {
     "is_executing": false
    }
   },
   "outputs": [
    {
     "name": "stdout",
     "output_type": "stream",
     "text": [
      "Введите число: 1\n",
      "<class 'int'>\n",
      "Введите второе число: 2\n",
      "Нажмите Enter для продолжения \n",
      "1  +  2  =  3\n"
     ]
    }
   ],
   "source": [
    "a=int(input(\"Введите число: \"))\n",
    "print(type(a))\n",
    "b=int(input(\"Введите второе число: \"))\n",
    "input(\"Нажмите Enter для продолжения \")\n",
    "print(a,\" + \",b,\" = \",a+b)\n"
   ]
  },
  {
   "cell_type": "markdown",
   "metadata": {},
   "source": [
    "### name function"
   ]
  },
  {
   "cell_type": "code",
   "execution_count": 21,
   "metadata": {
    "pycharm": {
     "is_executing": false
    }
   },
   "outputs": [
    {
     "name": "stdout",
     "output_type": "stream",
     "text": [
      "Whats your name >>>sd\n",
      "hello  sd\n",
      "Enter first number1\n",
      "Enter second number1\n",
      "sd total number of entered number is  2.0\n",
      "False\n"
     ]
    }
   ],
   "source": [
    "name=input('Whats your name >>>')\n",
    "print(\"hello \",name)\n",
    "name_count1=float(input('Enter first number' ))\n",
    "name_count2=float(input('Enter second number' ))\n",
    "print(name, \"total number of entered number is \", name_count1+name_count2)\n",
    "\n",
    "print(not True or False )  # "
   ]
  },
  {
   "cell_type": "markdown",
   "metadata": {},
   "source": [
    "### print function\n"
   ]
  },
  {
   "cell_type": "code",
   "execution_count": 22,
   "metadata": {
    "pycharm": {
     "is_executing": false
    }
   },
   "outputs": [
    {
     "name": "stdout",
     "output_type": "stream",
     "text": [
      "5----4----3\n",
      "Nur-Sultan\n",
      "Astana\n",
      "Men Astanada turamin!\n",
      "\n",
      "Men Astanada turamin\n",
      "\n",
      "Nur-Sultan\n"
     ]
    }
   ],
   "source": [
    "print(5,4,3, sep='----')\n",
    "print('Nur','Sultan', sep='-')\n",
    "print('Asta','na', sep='')\n",
    "\n",
    "## указываем конец строки\n",
    "print('Men Astanada turamin',end='!\\n\\n')\n",
    "print('Men Astanada turamin',end='\\n\\n') # два перевода строки\n",
    "print('Nur',end='')\n",
    "print('-Sultan')\n",
    "\n"
   ]
  },
  {
   "cell_type": "markdown",
   "metadata": {},
   "source": [
    "#### 2.4. Логические операторы: and, or, not\n",
    "\n",
    "True  - в контексте математики это 1\n",
    "\n",
    "False - в контексте математики это 0\n",
    "\n",
    "and - в контексте математики это *\n",
    "\n",
    "or - в контексте математики это +\n",
    "\n",
    "not - делает инверсию \n",
    "\n",
    "\n",
    "![Indices](img/truth-table.png \"Truth table\")\n",
    "https://www.w3schools.com/python/python_operators.asp\n",
    "\n",
    " "
   ]
  },
  {
   "cell_type": "code",
   "execution_count": 23,
   "metadata": {
    "pycharm": {
     "is_executing": false
    }
   },
   "outputs": [
    {
     "name": "stdout",
     "output_type": "stream",
     "text": [
      "False\n",
      "True\n",
      "True\n",
      "True\n",
      "False\n"
     ]
    }
   ],
   "source": [
    "a = True  # в контексте математики это 1\n",
    "b = False # в контексте математики это 0\n",
    "c = True  # 1\n",
    "\n",
    "print(a and b)\n",
    "print(a and c)\n",
    "print(a or c)\n",
    "print(b or a)\n",
    "print(not c)"
   ]
  },
  {
   "cell_type": "markdown",
   "metadata": {},
   "source": [
    "### 4. Принятие решений\n",
    "\n"
   ]
  },
  {
   "cell_type": "markdown",
   "metadata": {},
   "source": [
    "#### 4.1 If ... else\n",
    "\n"
   ]
  },
  {
   "cell_type": "raw",
   "metadata": {},
   "source": [
    "Вспомним:\n",
    "Равно: a == b\n",
    "Не равно: a != b\n",
    "Меньше чем: a < b\n",
    "Меньше или равно: a <= b\n",
    "Больше: a > b\n",
    "Больше или равно: a >= b"
   ]
  },
  {
   "cell_type": "code",
   "execution_count": null,
   "metadata": {},
   "outputs": [],
   "source": []
  },
  {
   "cell_type": "code",
   "execution_count": null,
   "metadata": {
    "pycharm": {
     "is_executing": false
    }
   },
   "outputs": [],
   "source": [
    "animal = \"dog\"\n",
    "if animal == \"dog\":  # if true, then executes this statement, else moves to the next elif. If second elif is \n",
    "    print(\"WOOF!\")\n",
    "elif animal == \"cow\":\n",
    "    print(\"MOOO!\")\n",
    "else:\n",
    "    print(\"zzz\")"
   ]
  },
  {
   "cell_type": "raw",
   "metadata": {},
   "source": [
    "Структура в коде следующая:\n",
    "if <condition 1>:\n",
    "    <do something 1>\n",
    "elif <condition 2>:\n",
    "    <do something 2>\n",
    "elif <condition 3>:\n",
    "    <do something 3>\n",
    "else:\n",
    "    <do something 4>\n",
    "    \n",
    "1. <condition> может быть только логическое значение (True или False)\n",
    "2. Следующая после if/elif/else линия должна быть <tabbed>(indentation)\n",
    "3. else и elif не допускается без if\n",
    "4. Двоеточие после <condition> обязательно\n",
    "5: Блок кода после <condition> ограничивается отступами - Indentation"
   ]
  },
  {
   "cell_type": "raw",
   "metadata": {},
   "source": [
    "Важно! Indentation!\n",
    "\n",
    "В Python блоки кода разграничиваются отступами (Indentation) - пропуски в начале линии(4 пропуска или TAB).\n",
    "\n",
    "Основная инструкция:\n",
    "    Вложенный блок инструкций\n",
    "\n",
    "https://pythonworld.ru/osnovy/sintaksis-yazyka-python.html"
   ]
  },
  {
   "cell_type": "code",
   "execution_count": 2,
   "metadata": {},
   "outputs": [
    {
     "name": "stdout",
     "output_type": "stream",
     "text": [
      "Aslan and Zhanibek are both 21 years old\n"
     ]
    }
   ],
   "source": [
    "Zhanibek = 21\n",
    "Aslan = 21\n",
    "if Aslan > Zhanibek:\n",
    "    print(\"Aslan is older than Zhanibek\")\n",
    "elif Aslan == Zhanibek:\n",
    "    print(f\"Aslan and Zhanibek are both {Aslan} years old\")\n",
    "else:\n",
    "    print(\"Aslan is younger than Zhanibek\")"
   ]
  },
  {
   "cell_type": "code",
   "execution_count": null,
   "metadata": {
    "pycharm": {
     "is_executing": false
    }
   },
   "outputs": [],
   "source": [
    "salary = 130000\n",
    "if salary <= 150000:\n",
    "    print(\"Junior\")\n",
    "elif salary > 150000 and salary < 300000:\n",
    "    print(\"Middle\")\n",
    "else:\n",
    "    print(\"Senior\")"
   ]
  },
  {
   "cell_type": "raw",
   "metadata": {},
   "source": [
    "Иные способы"
   ]
  },
  {
   "cell_type": "code",
   "execution_count": null,
   "metadata": {
    "pycharm": {
     "is_executing": false
    }
   },
   "outputs": [],
   "source": [
    "student = True\n",
    "if student: print(\"Проходи, студент!\")\n",
    "else: print(\"Посторонним нельзя!\")"
   ]
  },
  {
   "cell_type": "code",
   "execution_count": null,
   "metadata": {
    "pycharm": {
     "is_executing": false
    }
   },
   "outputs": [],
   "source": [
    "a = 4\n",
    "b = 3\n",
    "print(\"A\") if a > b else print(\"B\")"
   ]
  },
  {
   "cell_type": "code",
   "execution_count": 1,
   "metadata": {
    "pycharm": {
     "is_executing": false
    }
   },
   "outputs": [
    {
     "name": "stdout",
     "output_type": "stream",
     "text": [
      "None\n",
      "value is None\n",
      ">>>Beg\n"
     ]
    }
   ],
   "source": [
    "value=None\n",
    "\n",
    "if value is not None:\n",
    "    print('Not None')\n",
    "    \n",
    "if value is None:\n",
    "    print('None')\n",
    "    \n",
    "# if value:\n",
    "#     print('value is',value)\n",
    "\n",
    "if not bool(value)+True-1:  \n",
    "    print('value is',value)\n",
    "    \n",
    "value=input('>>>')\n",
    "if bool(\"\"):  # if empty string, its false hence system will not allow to login\n",
    "    print(bool(value))"
   ]
  },
  {
   "cell_type": "markdown",
   "metadata": {},
   "source": [
    "#### If line  "
   ]
  },
  {
   "cell_type": "code",
   "execution_count": 5,
   "metadata": {},
   "outputs": [
    {
     "name": "stdout",
     "output_type": "stream",
     "text": [
      "X==-4\n",
      "-3\n"
     ]
    }
   ],
   "source": [
    "x=int(input('X=='))\n",
    "if x<0:x+=1;\n",
    "print(x)"
   ]
  },
  {
   "cell_type": "code",
   "execution_count": null,
   "metadata": {},
   "outputs": [],
   "source": []
  }
 ],
 "metadata": {
  "kernelspec": {
   "display_name": "Python 3",
   "language": "python",
   "name": "python3"
  },
  "language_info": {
   "codemirror_mode": {
    "name": "ipython",
    "version": 3
   },
   "file_extension": ".py",
   "mimetype": "text/x-python",
   "name": "python",
   "nbconvert_exporter": "python",
   "pygments_lexer": "ipython3",
   "version": "3.6.8"
  },
  "pycharm": {
   "stem_cell": {
    "cell_type": "raw",
    "metadata": {
     "collapsed": false
    },
    "source": []
   }
  }
 },
 "nbformat": 4,
 "nbformat_minor": 2
}
