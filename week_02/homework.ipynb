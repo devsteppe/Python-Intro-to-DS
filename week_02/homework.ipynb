{
 "cells": [
  {
   "cell_type": "markdown",
   "metadata": {},
   "source": [
    "## Homework 2"
   ]
  },
  {
   "cell_type": "markdown",
   "metadata": {},
   "source": [
    "##### 1. Год рождения"
   ]
  },
  {
   "cell_type": "code",
   "execution_count": 15,
   "metadata": {},
   "outputs": [
    {
     "name": "stdout",
     "output_type": "stream",
     "text": [
      "Ты родился в 1994 году\n"
     ]
    }
   ],
   "source": [
    "age = 25\n",
    "# Посчитай год рождения\n",
    "# year = <твой код здесь>\n",
    "year = 2019 - age\n",
    "print(f\"Ты родился в {year} году\")"
   ]
  },
  {
   "cell_type": "markdown",
   "metadata": {},
   "source": [
    "##### 2. Определи четность числа"
   ]
  },
  {
   "cell_type": "code",
   "execution_count": 36,
   "metadata": {},
   "outputs": [
    {
     "name": "stdout",
     "output_type": "stream",
     "text": [
      "25 - нечетное число!\n"
     ]
    }
   ],
   "source": [
    "number = 25\n",
    "if number%2==0: \n",
    "    print(\"The number is even\")\n",
    "else: \n",
    "    print(\"The number is not even\")\n",
    "\n",
    "    \n",
    "    \n",
    "# even = <твой код здесь>\n",
    "even = (number % 2 == 0)\n",
    "\n",
    "evenness = 'четное' if even else 'нечетное'\n",
    "print(f\"{number} - {evenness} число!\")\n",
    "\n",
    "\n"
   ]
  },
  {
   "cell_type": "markdown",
   "metadata": {},
   "source": [
    "##### 3. Делители числа меньше 100"
   ]
  },
  {
   "cell_type": "code",
   "execution_count": 23,
   "metadata": {},
   "outputs": [
    {
     "name": "stdout",
     "output_type": "stream",
     "text": [
      "1\n",
      "2\n",
      "13\n",
      "26\n"
     ]
    }
   ],
   "source": [
    "x = 26\n",
    "# Узнай на какие числа меньше 100 делится число x\n",
    "numbers = list(range(1, 100))\n",
    "\n",
    "# <пиши свой код здесь>\n",
    "for i in numbers:\n",
    "    if x % i == 0:\n",
    "        print(i)"
   ]
  },
  {
   "cell_type": "markdown",
   "metadata": {},
   "source": [
    "##### 4. Проверка длины строк"
   ]
  },
  {
   "cell_type": "code",
   "execution_count": 31,
   "metadata": {},
   "outputs": [
    {
     "name": "stdout",
     "output_type": "stream",
     "text": [
      "veni vedi v\n",
      "veni vedi v\n"
     ]
    }
   ],
   "source": [
    "# Напиши скрипт, проверящий длину строки.\n",
    "# Если длина строки больше 10 то, выведи первые 10 букв, а если меньше то все\n",
    "some_string = \"veni vedi vici\"\n",
    "\n",
    "print(some_string[:11])\n",
    "# or\n",
    "if len(some_string) > 10:\n",
    "    print(some_string[:11]) # 11, а не 10\n",
    "else:\n",
    "    print(some_string)"
   ]
  },
  {
   "cell_type": "markdown",
   "metadata": {},
   "source": [
    "##### 5. Найди наибольшее из трех чисел"
   ]
  },
  {
   "cell_type": "code",
   "execution_count": 6,
   "metadata": {},
   "outputs": [
    {
     "name": "stdout",
     "output_type": "stream",
     "text": [
      "Наибольшее число:  None\n"
     ]
    }
   ],
   "source": [
    "# Напиши скрипт, который находит и печатает наибольшее из трех чисел.\n",
    "num1 = 10\n",
    "num2 = 11\n",
    "num3 = 12\n",
    "largest = None\n",
    "\n",
    "# пиши свой код здесь\n",
    "\n",
    "# if (num1 >= num2) and (num1 >= num3):\n",
    "#     largest = num1\n",
    "# elif (num2 >= num1) and (num2 >= num3):\n",
    "#     largest = num2\n",
    "# else:\n",
    "#     largest = num3\n",
    "\n",
    "print(\"Наибольшее число: \", largest)"
   ]
  },
  {
   "cell_type": "code",
   "execution_count": null,
   "metadata": {},
   "outputs": [],
   "source": []
  },
  {
   "cell_type": "markdown",
   "metadata": {},
   "source": [
    "#### References:\n",
    "* [CS Washington](https://courses.cs.washington.edu/courses/cse140/13wi/homework/hw1/hw1.html)\n",
    "* [Practice Python](https://www.practicepython.org/)\n",
    "* [w3resource](https://www.w3resource.com/python-exercises/)"
   ]
  },
  {
   "cell_type": "code",
   "execution_count": null,
   "metadata": {},
   "outputs": [],
   "source": []
  }
 ],
 "metadata": {
  "kernelspec": {
   "display_name": "Python 3",
   "language": "python",
   "name": "python3"
  },
  "language_info": {
   "codemirror_mode": {
    "name": "ipython",
    "version": 3
   },
   "file_extension": ".py",
   "mimetype": "text/x-python",
   "name": "python",
   "nbconvert_exporter": "python",
   "pygments_lexer": "ipython3",
   "version": "3.6.8"
  }
 },
 "nbformat": 4,
 "nbformat_minor": 2
}
