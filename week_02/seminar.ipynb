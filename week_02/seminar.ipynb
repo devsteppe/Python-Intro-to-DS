{
 "cells": [
  {
   "cell_type": "raw",
   "metadata": {},
   "source": [
    "Some words or images here"
   ]
  },
  {
   "cell_type": "markdown",
   "metadata": {},
   "source": [
    "### 3. Арифметические и логические операции"
   ]
  },
  {
   "cell_type": "markdown",
   "metadata": {},
   "source": [
    "#### 2.1 Арифметика"
   ]
  },
  {
   "cell_type": "code",
   "execution_count": 13,
   "metadata": {},
   "outputs": [],
   "source": [
    "x = 15\n",
    "y = 8\n",
    "z = 5\n",
    "\n",
    "\"\"\" Сложение \"\"\"\n",
    "summ = x + y\n",
    "\n",
    "\"\"\" Вычитание \"\"\"\n",
    "diff = x - y\n",
    "\n",
    "\"\"\" Умножение \"\"\"\n",
    "prod = x * y\n",
    "\n",
    "\"\"\" Целое Деление \"\"\"\n",
    "div_int = x // y\n",
    "\n",
    "\"\"\" Десятичное Деление \"\"\"\n",
    "div_floor = x / y\n",
    "\n",
    "\"\"\" Остаток от деления \"\"\"\n",
    "remainder = x % y\n",
    "\n",
    "\"\"\" Cтепень \"\"\"\n",
    "exp = y ** z"
   ]
  },
  {
   "cell_type": "code",
   "execution_count": 14,
   "metadata": {},
   "outputs": [
    {
     "name": "stdout",
     "output_type": "stream",
     "text": [
      "Cумма 15 и 8: 23\n",
      "Разница 15 и 8: 7\n",
      "Произведение 15 и 8: 120\n",
      "Целое деление 15 и 8: 1\n",
      "Десятичное деление 15 и 8: 1.875\n",
      "Oстаток от деления 15 на 8: 7\n",
      "8 в степени 5: 32768\n"
     ]
    }
   ],
   "source": [
    "print(\"Cумма {} и {}: {}\".format(x, y, summ))\n",
    "print(\"Разница {} и {}: {}\".format(x, y, diff))\n",
    "print(\"Произведение {} и {}: {}\".format(x, y, prod))\n",
    "print(\"Целое деление {} и {}: {}\".format(x, y, div_int))\n",
    "print(\"Десятичное деление {} и {}: {}\".format(x, y, div_floor))\n",
    "print(\"Oстаток от деления {} на {}: {}\".format(x, y, remainder))\n",
    "print(\"{} в степени {}: {}\".format(y, z, exp))"
   ]
  },
  {
   "cell_type": "markdown",
   "metadata": {},
   "source": [
    "#### 2.2. Операторы присвоения"
   ]
  },
  {
   "cell_type": "raw",
   "metadata": {},
   "source": [
    "Todo: https://www.w3schools.com/python/python_operators.asp"
   ]
  },
  {
   "cell_type": "markdown",
   "metadata": {},
   "source": [
    "#### 2.3. Операторы сравнения"
   ]
  },
  {
   "cell_type": "raw",
   "metadata": {},
   "source": [
    "Операторы сравнения пишутся между двумя значениями или переменными и возвращают булевое значения - True или False"
   ]
  },
  {
   "cell_type": "code",
   "execution_count": 28,
   "metadata": {},
   "outputs": [
    {
     "name": "stdout",
     "output_type": "stream",
     "text": [
      "10 и 10 равны: True\n",
      "15 и 10 равны: False\n",
      "10 и 10 не равны: False\n",
      "15 и 10 не равны: True\n",
      "10 больше 10: False\n",
      "15 больше 10: True\n",
      "10 меньше 10: False\n",
      "15 меньше 10: True\n",
      "10 больше или равно 10: True\n",
      "15 больше или равно 10: True\n",
      "10 меньше или равно 10: True\n",
      "15 меньше или равно 10: False\n"
     ]
    }
   ],
   "source": [
    "x = 15\n",
    "y = 10\n",
    "z = 10\n",
    "\n",
    "\"\"\" Равно \"\"\"\n",
    "print(\"{} и {} равны: {}\".format(y, z, (y == z)))\n",
    "print(\"{} и {} равны: {}\".format(x, z, (x == z)))\n",
    "\n",
    "\"\"\" Не равно \"\"\"\n",
    "print(\"{} и {} не равны: {}\".format(y, z, (y != z)))\n",
    "print(\"{} и {} не равны: {}\".format(x, z, (x != z)))\n",
    "\n",
    "\"\"\" Больше \"\"\"\n",
    "print(\"{} больше {}: {}\".format(y, z, (y > z)))\n",
    "print(\"{} больше {}: {}\".format(x, z, (x > z)))\n",
    "\n",
    "\"\"\" Меньше \"\"\"\n",
    "print(\"{} меньше {}: {}\".format(y, z, (y < z)))\n",
    "print(\"{} меньше {}: {}\".format(x, z, (z < x)))\n",
    "\n",
    "\"\"\" Больше или равно \"\"\"\n",
    "print(\"{} больше или равно {}: {}\".format(y, z, (y >= z)))\n",
    "print(\"{} больше или равно {}: {}\".format(x, z, (x >= z)))\n",
    "\n",
    "\"\"\" Меньше или равно \"\"\"\n",
    "print(\"{} меньше или равно {}: {}\".format(y, z, (y <= z)))\n",
    "print(\"{} меньше или равно {}: {}\".format(x, z, (x <= z)))\n",
    "\n"
   ]
  },
  {
   "cell_type": "markdown",
   "metadata": {},
   "source": [
    "#### 2.4. Логические операторы: and, or, not\n",
    "![Indices](img/truth-table.png \"Truth table\")\n",
    "https://www.w3schools.com/python/python_operators.asp"
   ]
  },
  {
   "cell_type": "code",
   "execution_count": 13,
   "metadata": {},
   "outputs": [
    {
     "name": "stdout",
     "output_type": "stream",
     "text": [
      "False\n",
      "True\n",
      "True\n",
      "True\n",
      "False\n"
     ]
    }
   ],
   "source": [
    "a = True  # 1\n",
    "b = False # 0\n",
    "c = True  # 1\n",
    "print(a and b)\n",
    "print(a and c)\n",
    "print(a or c)\n",
    "print(b or a)\n",
    "print(not c)"
   ]
  },
  {
   "cell_type": "markdown",
   "metadata": {},
   "source": [
    "### 4. Принятие решений"
   ]
  },
  {
   "cell_type": "markdown",
   "metadata": {},
   "source": [
    "#### 4.1 If ... else"
   ]
  },
  {
   "cell_type": "raw",
   "metadata": {},
   "source": [
    "Вспомним:\n",
    "Равно: a == b\n",
    "Не равно: a != b\n",
    "Меньше чем: a < b\n",
    "Меньше или равно: a <= b\n",
    "Больше: a > b\n",
    "Больше или равно: a >= b"
   ]
  },
  {
   "cell_type": "code",
   "execution_count": 33,
   "metadata": {},
   "outputs": [
    {
     "name": "stdout",
     "output_type": "stream",
     "text": [
      "WOOF!\n"
     ]
    }
   ],
   "source": [
    "animal = \"dog\"\n",
    "if animal == \"dog\":\n",
    "    print(\"WOOF!\")\n",
    "elif animal == \"cow\":\n",
    "    print(\"MOOO!\")\n",
    "else:\n",
    "    print(\"zzz\")"
   ]
  },
  {
   "cell_type": "raw",
   "metadata": {},
   "source": [
    "Структура в коде следующая:\n",
    "if <condition 1>:\n",
    "    <do something 1>\n",
    "elif <condition 2>:\n",
    "    <do something 2>\n",
    "elif <condition 3>:\n",
    "    <do something 3>\n",
    "else:\n",
    "    <do something 4>\n",
    "    \n",
    "1. <condition> может быть только логическое значение (True или False)\n",
    "2. Следующая после if/elif/else линия должна быть <tabbed>(indentation)\n",
    "3. else и elif не допускается без if\n",
    "4. Двоеточие после <condition> обязательно\n",
    "5: Блок кода после <condition> ограничивается отступами - Indentation"
   ]
  },
  {
   "cell_type": "raw",
   "metadata": {},
   "source": [
    "Важно! Indentation!\n",
    "\n",
    "В Python блоки кода разграничиваются отступами (Indentation) - пропуски в начале линии(4 пропуска или TAB).\n",
    "\n",
    "Основная инструкция:\n",
    "    Вложенный блок инструкций\n",
    "\n",
    "https://pythonworld.ru/osnovy/sintaksis-yazyka-python.html"
   ]
  },
  {
   "cell_type": "code",
   "execution_count": 42,
   "metadata": {},
   "outputs": [
    {
     "name": "stdout",
     "output_type": "stream",
     "text": [
      "Aslan and Zhanibek are both 21 years old\n"
     ]
    }
   ],
   "source": [
    "Zhanibek = 21\n",
    "Aslan = 21\n",
    "if Aslan > Zhanibek:\n",
    "    print(\"Aslan is older than Zhanibek\")\n",
    "elif Aslan == Zhanibek:\n",
    "    print(f\"Aslan and Zhanibek are both {Aslan} years old\")\n",
    "else:\n",
    "    print(\"Aslan is younger than Zhanibek\")"
   ]
  },
  {
   "cell_type": "code",
   "execution_count": 43,
   "metadata": {},
   "outputs": [
    {
     "name": "stdout",
     "output_type": "stream",
     "text": [
      "Junior\n"
     ]
    }
   ],
   "source": [
    "salary = 130000\n",
    "if salary <= 150000:\n",
    "    print(\"Junior\")\n",
    "elif salary > 150000 and salary < 300000:\n",
    "    print(\"Middle\")\n",
    "else:\n",
    "    print(\"Senior\")"
   ]
  },
  {
   "cell_type": "raw",
   "metadata": {},
   "source": [
    "Иные способы"
   ]
  },
  {
   "cell_type": "code",
   "execution_count": 52,
   "metadata": {},
   "outputs": [
    {
     "name": "stdout",
     "output_type": "stream",
     "text": [
      "Проходи, студент!\n"
     ]
    }
   ],
   "source": [
    "student = True\n",
    "if student: print(\"Проходи, студент!\")\n",
    "else: print(\"Посторонним нельзя!\")"
   ]
  },
  {
   "cell_type": "code",
   "execution_count": 53,
   "metadata": {},
   "outputs": [
    {
     "name": "stdout",
     "output_type": "stream",
     "text": [
      "A\n"
     ]
    }
   ],
   "source": [
    "a = 4\n",
    "b = 3\n",
    "print(\"A\") if a > b else print(\"B\")"
   ]
  },
  {
   "cell_type": "code",
   "execution_count": null,
   "metadata": {},
   "outputs": [],
   "source": []
  }
 ],
 "metadata": {
  "kernelspec": {
   "display_name": "Python 3",
   "language": "python",
   "name": "python3"
  },
  "language_info": {
   "codemirror_mode": {
    "name": "ipython",
    "version": 3
   },
   "file_extension": ".py",
   "mimetype": "text/x-python",
   "name": "python",
   "nbconvert_exporter": "python",
   "pygments_lexer": "ipython3",
   "version": "3.6.8"
  }
 },
 "nbformat": 4,
 "nbformat_minor": 2
}
