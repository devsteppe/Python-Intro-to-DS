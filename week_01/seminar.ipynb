{
 "cells": [
  {
   "cell_type": "markdown",
   "metadata": {},
   "source": [
    "<b>Python Objects</b>\n",
    "In Python, we will work with objects. Whats is an object basically? Object is a place in Memory. Even data or operators in python considered as objects. Well everything is an object in Python. Python comes with built-in objects or we will create objects using python classes. \n",
    "\n",
    "To see the big picture of Python, we can decompose Python into following areas: \n",
    "\n",
    "- Modules(programs composed of modules, modules contain statements, )\n",
    "- Statements(Statements contain expressions)\n",
    "- Expressions (create and process objects)\n",
    "- Objects\n",
    "\n",
    "Python is a hign level programming language that helps to achieve true goal of the program quickly. In low-level languages such as C or C++, much of the work centers on the implementation of data structures such as memory structure, manage memory allocation and access routines. At the end you end up getting distracted by those errors, instead of working on achieving the true goal of your program. \n",
    "\n",
    "In Python most of this goes away thanks to its built-in objects: example of that can be powerful lists and searchable dictionary. Those built-in objects are more efficient than manual data scructure you create. Those built-in object structures are obpimized and algorithms are implemented in C for speed. \n",
    "\n",
    "So we can think that those built-in objects that are created for us are great and they are more powerful and efficient than the ones we can create by our own. \n",
    "\n",
    "\n",
    "Pythons core data types: \n",
    "Pythons built-in data structures are similar to other language data scructures such as numbers, strings, booleans, at the same timne python has very powerful data sctuctures as lists and dictonaries. Lists are ordered collections that can hold various data types and can grow and shrink in demand and contain objects of many types. \n",
    "\n",
    "In Python, we do not need to specifically declare data types. If you use expression wrapped in square brackets, it is a list, if expresssion is wrapped in curly braces makes a dictionary. So those syntax of expressions declare types of objects you create and use. \n",
    "\n",
    "\n"
   ]
  },
  {
   "cell_type": "markdown",
   "metadata": {},
   "source": [
    "<b>Python</b> (читается как «Пайтон» а не «питон») — скриптовый язык, разработанный <b>Гвидо ван Россумом</b> в качестве простого языка, легкого в изучении новичку. \n",
    "В наше время <b>Python</b> – широко распространенный язык, который используется во многих областях:\n",
    "* Разработка прикладного ПО\n",
    "* Разработка web-приложений и фреймворков для быстрой разработки приложений (Django и т.п.)\n",
    "* Использование в качестве встраиваемого скриптового языка во многих играх, и не только\n",
    "* Использование в научных рассчетах (SciPy, numPy для расчетов и PyPlot для рисования графиков)<br>\n",
    "И это конечно далеко не полный список проектов, использующих этот замечательный язык.\n",
    "https://habr.com/ru/post/29778/\n"
   ]
  },
  {
   "cell_type": "markdown",
   "metadata": {},
   "source": [
    "### 2. Переменные и типы данных"
   ]
  },
  {
   "cell_type": "markdown",
   "metadata": {},
   "source": [
    "#### 2.1 Переменные"
   ]
  },
  {
   "cell_type": "markdown",
   "metadata": {},
   "source": [
    "Переменные - это контейнеры для хранение данных.\n",
    "Можно:\n",
    "    * Передавать переменные дальше другим функциям\n",
    "    * Узнать значения переменных: e.g. print()\n",
    "    * Изменять их значения, состав или форму в зависомости от типа переменного и задачи\n",
    "\n",
    "Когда вы первый раз записываете имя переменной, это называется объявить переменную. В Python переменную всегда объявляют, присваивая ей какое-нибудь значение. Достаточно просто ввести имя, поставить знак равенства (он называется оператор присваивания) и написать нужное значение. (praktikum.yandex.ru)\n",
    "\n",
    "Переменная создается когда вы присваиваете ему какое-то значение.\n",
    "\n",
    "Название переменной: variable_name\n",
    "Значение переменной: \"привет\""
   ]
  },
  {
   "cell_type": "code",
   "execution_count": null,
   "metadata": {
    "pycharm": {
     "is_executing": false
    }
   },
   "outputs": [],
   "source": [
    "e=9 # e- имя, 9- значение и е это переменная которая хранит целое число 9 \n",
    "k=9 # k- Идентификатор \n",
    "print(id(e),id(k)) # место в памяти\n",
    "\n",
    "variable_name = \"jhsdjhs\"\n",
    "other_variable = 24  # other_variable\n",
    "print(variable_name)\n",
    "print(other_variable)\n",
    "\n",
    "day, month, year = 1, 11, 1998\n",
    "print(day)\n",
    "print(month)\n",
    "print(year)"
   ]
  },
  {
   "cell_type": "raw",
   "metadata": {},
   "source": [
    "Какими могут названия переменных?\n",
    "    * Короткие: x,y, z или более длинные и со смыслом: name, age, year, count, total_sum.\n",
    "1. Может начинаться с буквы или с _ (underscore)!\n",
    "2. Не может начинаться с цифры (0-9)!\n",
    "3. Может состоять только из букв, цифр или _. По другому Alphanumeric (A-z, 0-9) и underscore.\n",
    "4. Case-sensitive! - (name, Name и NAME - это три разные названия переменных)"
   ]
  },
  {
   "cell_type": "raw",
   "metadata": {},
   "source": [
    "Todo: Глобальные переменные"
   ]
  },
  {
   "cell_type": "markdown",
   "metadata": {},
   "source": [
    "#### 2.2. Типы данных"
   ]
  },
  {
   "cell_type": "raw",
   "metadata": {},
   "source": [
    "В Python есть несколько встроенных типов данных:\n",
    "\n",
    "* Строки:\tstr\n",
    "* Числовые типы: umbers:\tint, float, complex\n",
    "* Последовательности:\tlist, tuple, range, sets\n",
    "* Словари:\tdict\n",
    "* Множества:\tset, frozenset\n",
    "* Логический тип:\tbool\n",
    "* Бинарные типы:\tbytes, bytearray, memoryview"
   ]
  },
  {
   "cell_type": "markdown",
   "metadata": {},
   "source": [
    "| Types | Examples   |\n",
    "|------|------|\n",
    "| Numbers|454,3.1415,5+6g, |\n",
    "| Strings|    'almaty', 'Gogols's', 's\\sdsdsd' |\n",
    "| Lists|    [1,3,['almaty']],['burget','cheese'] |\n",
    "| Dicrionaries|{'restaurant':'kaganat', 'car':'toyota'},dict(hours=8)|\n",
    "|tuples|(3,'kombain',5)|\n",
    "|sets|set('bbc'),('b','b','c')\n"
   ]
  },
  {
   "cell_type": "code",
   "execution_count": 13,
   "metadata": {},
   "outputs": [
    {
     "name": "stdout",
     "output_type": "stream",
     "text": [
      "Type: <class 'str'>. Content: just do it\n",
      "Type: <class 'int'>. Content: 12\n",
      "Type: <class 'float'>. Content: 12.4\n",
      "Type: <class 'bool'>. Content: True\n",
      "Type: <class 'dict'>. Content: {'a': 1, 'b': 2, 'c': 3}\n",
      "Type: <class 'list'>. Content: [22, 33, 44]\n",
      "Type: <class 'tuple'>. Content: (8, 9, 10)\n"
     ]
    }
   ],
   "source": [
    "string_var = \"just do it\"\n",
    "int_var = 12\n",
    "float_var = 12.4\n",
    "bool_var = True\n",
    "dict_var = {'a': 1, 'b': 2, 'c': 3}\n",
    "list_var = [22, 33, 44]\n",
    "tuple_var = (8, 9, 10)\n",
    "#Узнать тип можно с помощью функции type().\n",
    "print(\"Type: {}. Content: {}\".format(type(string_var), string_var))\n",
    "print(\"Type: {}. Content: {}\".format(type(int_var), int_var))\n",
    "print(\"Type: {}. Content: {}\".format(type(float_var), float_var))\n",
    "print(\"Type: {}. Content: {}\".format(type(bool_var), bool_var))\n",
    "print(\"Type: {}. Content: {}\".format(type(dict_var), dict_var))\n",
    "print(\"Type: {}. Content: {}\".format(type(list_var), list_var))\n",
    "print(\"Type: {}. Content: {}\".format(type(tuple_var), tuple_var))"
   ]
  },
  {
   "cell_type": "markdown",
   "metadata": {},
   "source": [
    "<b> Numbers</b>\n",
    "\n",
    "Numbers can be:\n",
    "- integers that don't have fractional part\n",
    "- floating-point: have fractional parts\n",
    "- complex numbers: imaginary parts\n",
    "- rationals with numberator and denominators\n",
    "\n",
    "\n",
    "\n",
    "Numbers are straightforward as mathematical number and normal mathematical operations such as addition, subtraction, multiplication etc is supported in python as well. In fact, in python command line, we can use it as calculator 2*4\n",
    "\n",
    "Besides mathematical operations, we also can import math module and perform operataions such as square root or constant pi. Also we can import module random that generates random numbers. \n",
    "\n"
   ]
  },
  {
   "cell_type": "code",
   "execution_count": null,
   "metadata": {},
   "outputs": [],
   "source": [
    "545+5454 #integer"
   ]
  },
  {
   "cell_type": "code",
   "execution_count": null,
   "metadata": {},
   "outputs": [],
   "source": [
    "4.5*4 # floating point"
   ]
  },
  {
   "cell_type": "code",
   "execution_count": null,
   "metadata": {},
   "outputs": [],
   "source": [
    "2**2 #2 to the power of 2"
   ]
  },
  {
   "cell_type": "code",
   "execution_count": null,
   "metadata": {},
   "outputs": [],
   "source": [
    "import cmath\n",
    "x = -1.0\n",
    "y = 0.0\n",
    "\n",
    "# converting x and y into complex number \n",
    "z = complex(x,y); "
   ]
  },
  {
   "cell_type": "code",
   "execution_count": null,
   "metadata": {},
   "outputs": [],
   "source": [
    "3**85"
   ]
  },
  {
   "cell_type": "code",
   "execution_count": 2,
   "metadata": {},
   "outputs": [
    {
     "data": {
      "text/plain": [
       "40559"
      ]
     },
     "execution_count": 2,
     "metadata": {},
     "output_type": "execute_result"
    }
   ],
   "source": [
    "len(str(3**85007)) #  we can find out how many digits in a really big number"
   ]
  },
  {
   "cell_type": "markdown",
   "metadata": {},
   "source": [
    "Also python comes with rich modules including modules for numbers and math. Example of it is module math. In order to use it, we need to import math or random number generator"
   ]
  },
  {
   "cell_type": "code",
   "execution_count": 6,
   "metadata": {},
   "outputs": [
    {
     "data": {
      "text/plain": [
       "8.06225774829855"
      ]
     },
     "execution_count": 6,
     "metadata": {},
     "output_type": "execute_result"
    }
   ],
   "source": [
    "import math\n",
    "math.sqrt(65)\n"
   ]
  },
  {
   "cell_type": "code",
   "execution_count": 9,
   "metadata": {},
   "outputs": [
    {
     "data": {
      "text/plain": [
       "0.3738390891520934"
      ]
     },
     "execution_count": 9,
     "metadata": {},
     "output_type": "execute_result"
    }
   ],
   "source": [
    "import random\n",
    "random.random()"
   ]
  },
  {
   "cell_type": "code",
   "execution_count": 10,
   "metadata": {},
   "outputs": [
    {
     "data": {
      "text/plain": [
       "2"
      ]
     },
     "execution_count": 10,
     "metadata": {},
     "output_type": "execute_result"
    }
   ],
   "source": [
    "random.choice([7,6,5,4,3,2,1])"
   ]
  },
  {
   "cell_type": "markdown",
   "metadata": {},
   "source": [
    "### 3. Python Strings - Cтроки"
   ]
  },
  {
   "cell_type": "raw",
   "metadata": {},
   "source": [
    "Строки – это тип данных Python, который представляет собой последовательность из одного или нескольких символов (букв, цифр, пробелов и других символов).\n",
    "\n",
    "Strings are sequences of one-caracter strings that maintain left-to-right sequence. So each caracter can be fetched by their relative positions. \n",
    "\n",
    "Lets take a look at the six caracter string and we can perform various opeations such as find out length of string or fetch by using indexing expresstions: "
   ]
  },
  {
   "cell_type": "code",
   "execution_count": 5,
   "metadata": {
    "pycharm": {
     "is_executing": false,
     "name": "#%%\n"
    }
   },
   "outputs": [
    {
     "name": "stdout",
     "output_type": "stream",
     "text": [
      "Almaty\n"
     ]
    },
    {
     "data": {
      "text/plain": [
       "6"
      ]
     },
     "execution_count": 5,
     "metadata": {},
     "output_type": "execute_result"
    }
   ],
   "source": [
    "a='Almaty'\n",
    "print(a)"
   ]
  },
  {
   "cell_type": "code",
   "execution_count": 7,
   "metadata": {},
   "outputs": [
    {
     "data": {
      "text/plain": [
       "'m'"
      ]
     },
     "execution_count": 7,
     "metadata": {},
     "output_type": "execute_result"
    }
   ],
   "source": [
    "a[2]"
   ]
  },
  {
   "cell_type": "code",
   "execution_count": 8,
   "metadata": {},
   "outputs": [
    {
     "data": {
      "text/plain": [
       "'y'"
      ]
     },
     "execution_count": 8,
     "metadata": {},
     "output_type": "execute_result"
    }
   ],
   "source": [
    "a[-1] # access last index"
   ]
  },
  {
   "cell_type": "markdown",
   "metadata": {},
   "source": [
    "Also we can use slicing in order to extract entire slice in one step. \n",
    "Y[I;J] here we are saying \"give me everything in Y from offset I up to but not including offset J\" or [that is 1 thru 3-1]"
   ]
  },
  {
   "cell_type": "code",
   "execution_count": 16,
   "metadata": {},
   "outputs": [
    {
     "data": {
      "text/plain": [
       "'Almat'"
      ]
     },
     "execution_count": 16,
     "metadata": {},
     "output_type": "execute_result"
    }
   ],
   "source": [
    "a[0:6] # everything but the last\n",
    "a[1:]  # everything past the first\n",
    "a[:] #all of a\n",
    "a[:-1] #everything but the last again"
   ]
  },
  {
   "cell_type": "code",
   "execution_count": null,
   "metadata": {},
   "outputs": [],
   "source": []
  },
  {
   "cell_type": "code",
   "execution_count": 9,
   "metadata": {},
   "outputs": [
    {
     "name": "stdout",
     "output_type": "stream",
     "text": [
      "A\n"
     ]
    }
   ],
   "source": [
    "# Also we can assign any of those caracters to a variable\n",
    "first_letter=a[0]\n",
    "print(first_letter)"
   ]
  },
  {
   "cell_type": "code",
   "execution_count": 10,
   "metadata": {},
   "outputs": [
    {
     "name": "stdout",
     "output_type": "stream",
     "text": [
      "Salem, Alem!\n"
     ]
    }
   ],
   "source": [
    "print(\"Salem, Alem!\")"
   ]
  },
  {
   "cell_type": "raw",
   "metadata": {},
   "source": [
    "Начначение переменной строки:\n",
    "    first - это переменная\n",
    "    \"Wubba\" - это строка"
   ]
  },
  {
   "cell_type": "code",
   "execution_count": 11,
   "metadata": {},
   "outputs": [],
   "source": [
    "first = \"Wubba\"\n",
    "second = \"Lubba\"\n",
    "third = \"Dub\""
   ]
  },
  {
   "cell_type": "raw",
   "metadata": {},
   "source": [
    "Строки должны быть внутри кавычек.\n",
    "Например:"
   ]
  },
  {
   "cell_type": "code",
   "execution_count": 12,
   "metadata": {},
   "outputs": [],
   "source": [
    "s1 = 'Wubba'\n",
    "s2 = \"Lubba\"\n",
    "s3 = \"\"\"\n",
    "    Что-то длинное занимаещее\n",
    "    несколько линий.\n",
    "\"\"\""
   ]
  },
  {
   "cell_type": "raw",
   "metadata": {},
   "source": [
    "Длина строки = количество chars\n",
    "Используем встроенную функцию len():"
   ]
  },
  {
   "cell_type": "code",
   "execution_count": null,
   "metadata": {},
   "outputs": [],
   "source": [
    "l = len(first)\n",
    "print(l)"
   ]
  },
  {
   "cell_type": "raw",
   "metadata": {},
   "source": [
    "Сложение строк  или конкатинация - Concatenation\n",
    "\n",
    "Contactiantion- joins two strings into a new string"
   ]
  },
  {
   "cell_type": "code",
   "execution_count": 17,
   "metadata": {},
   "outputs": [
    {
     "name": "stdout",
     "output_type": "stream",
     "text": [
      "Python is a programming language\n",
      "Python is a programming language\n",
      "Salem Astana\n"
     ]
    }
   ],
   "source": [
    "var1 = \"Python is a \" + \"programming \" + \"language\"\n",
    "var2 = \"Python \" + \"is a \" + \"programming language\"\n",
    "print(var1)\n",
    "print(var2)\n",
    "\n",
    "a=\"Salem \"\n",
    "b=\"Astana\"\n",
    "print(a+b)"
   ]
  },
  {
   "cell_type": "raw",
   "metadata": {},
   "source": [
    "Умножение строк"
   ]
  },
  {
   "cell_type": "code",
   "execution_count": 18,
   "metadata": {},
   "outputs": [
    {
     "name": "stdout",
     "output_type": "stream",
     "text": [
      "ya rad\n",
      "ya radya rad\n",
      "ya radya radya rad\n",
      "ya radya radya radya radya radya radya radya rad\n"
     ]
    }
   ],
   "source": [
    "single = \"ya rad\"\n",
    "double = single * 2\n",
    "triple = single * 3\n",
    "multiple = single * 8\n",
    "print(single)\n",
    "print(double)\n",
    "print(triple)\n",
    "print(multiple)"
   ]
  },
  {
   "cell_type": "raw",
   "metadata": {},
   "source": [
    "Доступ по индексу\n",
    "Можно узнать/достать букву(char), расположенной по индексу i, используя [i]:"
   ]
  },
  {
   "cell_type": "code",
   "execution_count": 19,
   "metadata": {},
   "outputs": [
    {
     "name": "stdout",
     "output_type": "stream",
     "text": [
      "Полная строка: Kazakhstan\n",
      "Длина строки: 10\n",
      "5 буква строки: h\n"
     ]
    }
   ],
   "source": [
    "kz = \"Kazakhstan\"\n",
    "print(\"Полная строка: {}\".format(kz))\n",
    "print(\"Длина строки: {}\".format(len(kz)))\n",
    "index = 5\n",
    "char_at_index = kz[index]\n",
    "print(\"{i} буква строки: {char}\".format(i=index, char=char_at_index))"
   ]
  },
  {
   "cell_type": "raw",
   "metadata": {},
   "source": [
    "Важно: Индексация\n",
    "    Поскольку строки являются последовательностями, с ними можно взаимодействовать так же, как и с другими типами данных на основе последовательности – путём индексации и среза.\n",
    "https://www.8host.com/blog/indeksaciya-i-srez-strok-v-python-3/"
   ]
  },
  {
   "cell_type": "markdown",
   "metadata": {},
   "source": [
    "![Indices](img/indices.png \"Indices\")\n",
    "https://o7planning.org/ru/11423/python-string-tutorial"
   ]
  },
  {
   "cell_type": "raw",
   "metadata": {},
   "source": [
    "Пустая строка - Empty string\n",
    "Длина пустой строки = 0"
   ]
  },
  {
   "cell_type": "code",
   "execution_count": null,
   "metadata": {},
   "outputs": [],
   "source": [
    "nonempty = \"не пустая строка\"\n",
    "empty = ''\n",
    "print(\"Cтрока: {}\".format(nonempty))\n",
    "print(\"Длина: {}\".format(len(nonempty)))\n",
    "print()\n",
    "print(\"Cтрока: {}\".format(empty))\n",
    "print(\"Длина: {}\".format(len(empty)))"
   ]
  },
  {
   "cell_type": "markdown",
   "metadata": {},
   "source": [
    "А так же можно использовать <b>переменные</b> (variables) вместе с обычными <b>строками</b> (strings)"
   ]
  },
  {
   "cell_type": "code",
   "execution_count": null,
   "metadata": {},
   "outputs": [],
   "source": [
    "name = 'Alikhan'\n",
    "print(name)\n",
    "\n",
    "print(\"Salem, \" + name + \"!\")    # string concatanation\n",
    "print(\"Salem, {}!\".format(name)) # string formatting\n",
    "print(f\"Salem, {name}!\")         # f-strings"
   ]
  },
  {
   "cell_type": "raw",
   "metadata": {},
   "source": [
    "String functions - Функции строк"
   ]
  },
  {
   "cell_type": "code",
   "execution_count": null,
   "metadata": {},
   "outputs": [],
   "source": [
    "# lower()\n",
    "# upper()\n",
    "# slices"
   ]
  },
  {
   "cell_type": "markdown",
   "metadata": {},
   "source": [
    "<b>Immutability</b>\n",
    "\n",
    "As we have seen above we have been performing variosu operattions for string, however we did not change the original Almaty string, instead we produced  anew string as its result. \n",
    "This is all because strings are immutable in Python. This means that it cannot be changed once they are created. You can never overwrite the values of immutable objects. We can build a new one and assign t to the same name. We can't try to change the characters of strings we created. \n",
    "\n",
    "So in Python,  objects are immitable or mutable. For example numbers, strings and tuples are immutable and lists, sets, dictinaries are mutable. \n",
    "\n",
    "\n",
    "This is very imporant part of Python. Before we start our project, we really need to think whether we need to use immutable objects object types or mutable. Immitability guarantees that objects remain constant throughtout our project. "
   ]
  },
  {
   "cell_type": "code",
   "execution_count": 21,
   "metadata": {},
   "outputs": [],
   "source": [
    "d='Paris'"
   ]
  },
  {
   "cell_type": "code",
   "execution_count": 22,
   "metadata": {},
   "outputs": [
    {
     "ename": "TypeError",
     "evalue": "'str' object does not support item assignment",
     "output_type": "error",
     "traceback": [
      "\u001b[0;31m---------------------------------------------------------------------------\u001b[0m",
      "\u001b[0;31mTypeError\u001b[0m                                 Traceback (most recent call last)",
      "\u001b[0;32m<ipython-input-22-eb411b51289a>\u001b[0m in \u001b[0;36m<module>\u001b[0;34m\u001b[0m\n\u001b[0;32m----> 1\u001b[0;31m \u001b[0md\u001b[0m\u001b[0;34m[\u001b[0m\u001b[0;36m0\u001b[0m\u001b[0;34m]\u001b[0m\u001b[0;34m=\u001b[0m\u001b[0;34m'h'\u001b[0m\u001b[0;34m\u001b[0m\u001b[0;34m\u001b[0m\u001b[0m\n\u001b[0m",
      "\u001b[0;31mTypeError\u001b[0m: 'str' object does not support item assignment"
     ]
    }
   ],
   "source": [
    "d[0]='h'"
   ]
  },
  {
   "cell_type": "code",
   "execution_count": 23,
   "metadata": {},
   "outputs": [],
   "source": [
    "d='haris'"
   ]
  },
  {
   "cell_type": "code",
   "execution_count": 24,
   "metadata": {},
   "outputs": [
    {
     "name": "stdout",
     "output_type": "stream",
     "text": [
      "haris\n"
     ]
    }
   ],
   "source": [
    "print(d)"
   ]
  },
  {
   "cell_type": "code",
   "execution_count": 28,
   "metadata": {},
   "outputs": [
    {
     "name": "stdout",
     "output_type": "stream",
     "text": [
      "['h', 'a', 'r', 'i', 's']\n"
     ]
    }
   ],
   "source": [
    "F=list(d)\n",
    "F[0]='h'\n",
    "''.join(F)\n",
    "print(F)"
   ]
  },
  {
   "cell_type": "markdown",
   "metadata": {},
   "source": [
    "Strings also have their own methods. Methods are functions that are part of string and act upon a specific object. They are triggered with a call expression. \n",
    "\n",
    "For example, there is find and replace methods. \n",
    "\n"
   ]
  },
  {
   "cell_type": "code",
   "execution_count": 30,
   "metadata": {},
   "outputs": [
    {
     "data": {
      "text/plain": [
       "'Salem '"
      ]
     },
     "execution_count": 30,
     "metadata": {},
     "output_type": "execute_result"
    }
   ],
   "source": [
    "a"
   ]
  },
  {
   "cell_type": "code",
   "execution_count": 31,
   "metadata": {},
   "outputs": [
    {
     "data": {
      "text/plain": [
       "2"
      ]
     },
     "execution_count": 31,
     "metadata": {},
     "output_type": "execute_result"
    }
   ],
   "source": [
    "a.find('l')  # here we can find the offset of a"
   ]
  },
  {
   "cell_type": "code",
   "execution_count": 32,
   "metadata": {},
   "outputs": [
    {
     "data": {
      "text/plain": [
       "'SaLem '"
      ]
     },
     "execution_count": 32,
     "metadata": {},
     "output_type": "execute_result"
    }
   ],
   "source": [
    "a.replace('l','L')  # even though we are making changes, we are not changing the original \n",
    "#strings here, instead we are creating new strings as a result due to its immutability. "
   ]
  },
  {
   "cell_type": "markdown",
   "metadata": {},
   "source": [
    "We also have other methods such as split, upper, isalpha"
   ]
  },
  {
   "cell_type": "code",
   "execution_count": 33,
   "metadata": {},
   "outputs": [
    {
     "data": {
      "text/plain": [
       "['fff', 'dsds', 'www', 's']"
      ]
     },
     "execution_count": 33,
     "metadata": {},
     "output_type": "execute_result"
    }
   ],
   "source": [
    "g='fff,dsds,www,s'\n",
    "g.split(',') # we split in a delineter into a list of substrings"
   ]
  },
  {
   "cell_type": "code",
   "execution_count": 35,
   "metadata": {},
   "outputs": [
    {
     "data": {
      "text/plain": [
       "'SALEM '"
      ]
     },
     "execution_count": 35,
     "metadata": {},
     "output_type": "execute_result"
    }
   ],
   "source": [
    "a.upper()"
   ]
  },
  {
   "cell_type": "code",
   "execution_count": 36,
   "metadata": {},
   "outputs": [
    {
     "data": {
      "text/plain": [
       "'Salem '"
      ]
     },
     "execution_count": 36,
     "metadata": {},
     "output_type": "execute_result"
    }
   ],
   "source": [
    "a"
   ]
  },
  {
   "cell_type": "code",
   "execution_count": 37,
   "metadata": {},
   "outputs": [
    {
     "data": {
      "text/plain": [
       "'fff,dsds,www,s'"
      ]
     },
     "execution_count": 37,
     "metadata": {},
     "output_type": "execute_result"
    }
   ],
   "source": [
    "g.rstrip()  # remove whitespace characters on the right side"
   ]
  },
  {
   "cell_type": "code",
   "execution_count": null,
   "metadata": {},
   "outputs": [],
   "source": []
  }
 ],
 "metadata": {
  "kernelspec": {
   "display_name": "Python 3",
   "language": "python",
   "name": "python3"
  },
  "language_info": {
   "codemirror_mode": {
    "name": "ipython",
    "version": 3
   },
   "file_extension": ".py",
   "mimetype": "text/x-python",
   "name": "python",
   "nbconvert_exporter": "python",
   "pygments_lexer": "ipython3",
   "version": "3.8.1"
  },
  "pycharm": {
   "stem_cell": {
    "cell_type": "raw",
    "metadata": {
     "collapsed": false
    },
    "source": []
   }
  }
 },
 "nbformat": 4,
 "nbformat_minor": 2
}
