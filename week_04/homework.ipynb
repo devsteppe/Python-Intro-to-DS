{
 "cells": [
  {
   "cell_type": "markdown",
   "metadata": {},
   "source": [
    "### Homework 3: Контейнеры"
   ]
  },
  {
   "cell_type": "markdown",
   "metadata": {},
   "source": [
    "#### Задача 1. Find the 'longest' list \n",
    "   У вас есть список <b>my_lists</b> c 8 cписками внутри. Пример: <b>my_lists = [ [1, 2, 4], [5, 15, 34], [1], [], [11, 23], [3], [23, 34], [56] ]</b><br>\n",
    "   Напишите функцию, которая находит длину списка с большим количеством элементов.<br>\n",
    "   Длины списков не привышают 100. <br>\n",
    "<b>На входе</b>: \n",
    "    my_lists - list variable <br>\n",
    "<b>На выходе</b>:\n",
    "    max_len: int - наибольшая длина<br>"
   ]
  },
  {
   "cell_type": "code",
   "execution_count": 2,
   "metadata": {},
   "outputs": [],
   "source": [
    "def longest_list(my_list: list) -> list: # Не забудь про type hinting\n",
    "    # Пиши код здесь\n",
    "    pass"
   ]
  },
  {
   "cell_type": "code",
   "execution_count": 7,
   "metadata": {},
   "outputs": [],
   "source": [
    "# Решение\n",
    "def longest_list(my_list: list) -> list:\n",
    "    longest = None\n",
    "    max_len = 0\n",
    "    for my_list in my_lists:\n",
    "        _len = len(my_list)\n",
    "        if _len > max_len:\n",
    "            longest = my_list\n",
    "            max_len = _len\n",
    "    return max_len"
   ]
  },
  {
   "cell_type": "code",
   "execution_count": 10,
   "metadata": {},
   "outputs": [],
   "source": [
    "# Тест\n",
    "my_lists = [ [1, 2, 4], [5, 15, 34], [1], [], [11, 23], [3], [23, 34], [56] ]\n",
    "assert(longest_list(my_lists) == 3)\n",
    "# Напиши свои тесты"
   ]
  },
  {
   "cell_type": "markdown",
   "metadata": {},
   "source": [
    "#### Задача 2. Find the length of a string\n",
    "   У тебя есть список городов Казахстана, отсортированные по населению. Напиши функцию которая возвращает тебе N-ный город в этом списке, если N , больше чем количество городов, то вернуть <b>None</b>. N > 0.<br>"
   ]
  },
  {
   "cell_type": "code",
   "execution_count": 11,
   "metadata": {},
   "outputs": [],
   "source": [
    "def Nth_city(cities: list, n: int) -> str:\n",
    "    # Пиши код здесь\n",
    "    pass"
   ]
  },
  {
   "cell_type": "code",
   "execution_count": 22,
   "metadata": {},
   "outputs": [],
   "source": [
    "# Решение\n",
    "def Nth_city(cities: list, n: int):\n",
    "    if n > len(cities) or n < 0:\n",
    "        return None\n",
    "    return cities[n-1]"
   ]
  },
  {
   "cell_type": "code",
   "execution_count": 24,
   "metadata": {},
   "outputs": [],
   "source": [
    "# Тест\n",
    "cities = ['Almaty', 'Astana', 'Shymkent', 'Karagandy', 'Aktobe', 'Kyzylorda', 'Taraz', 'Atyrau']\n",
    "assert(Nth_city(cities, 1) == 'Almaty')\n",
    "assert(Nth_city(cities, 2) == 'Astana')\n",
    "assert(Nth_city(cities, 8) == 'Atyrau')\n",
    "# Напиши свои тесты"
   ]
  },
  {
   "cell_type": "markdown",
   "metadata": {},
   "source": [
    "#### Задача 3. Print the last char of a string\n",
    "   Напишите функцию, которое возвращает последнюю букву строки.<br>\n",
    "<b>На входе</b>: \n",
    "    string - str variable<br>\n",
    "<b>На выходе</b>:\n",
    "    letter - последняя буква строки<br>"
   ]
  },
  {
   "cell_type": "code",
   "execution_count": 61,
   "metadata": {},
   "outputs": [],
   "source": [
    "def last_char(string):\n",
    "    # Пиши код здесь\n",
    "    pass"
   ]
  },
  {
   "cell_type": "code",
   "execution_count": 62,
   "metadata": {},
   "outputs": [],
   "source": [
    "# Решение\n",
    "def last_char(string: str) -> str:\n",
    "#     l = len(string)\n",
    "#     return string[l-1]\n",
    "    return string[-1]"
   ]
  },
  {
   "cell_type": "code",
   "execution_count": 63,
   "metadata": {},
   "outputs": [],
   "source": [
    "# Тест\n",
    "assert(last_char(\"Zhanibek\") == 'k')\n",
    "assert(last_char(\"devsteppe\") == 'e')\n",
    "assert(last_char(\"Arman\") == 'n')\n",
    "# Напиши свои тесты"
   ]
  },
  {
   "cell_type": "markdown",
   "metadata": {},
   "source": [
    "#### Задача 4. Sum the first and last element in a list\n",
    "   У вас есть список целых чисел <b>numbers</b>.<br>\n",
    "   Напишите функцию, которое находит сумму первого и последнего элементов списка.<br>\n",
    "<b>На входе</b>: \n",
    "    numbers - list <br>\n",
    "<b>На выходе</b>:\n",
    "    summ - сумма первого и последнего элементов списка<br>"
   ]
  },
  {
   "cell_type": "code",
   "execution_count": 66,
   "metadata": {},
   "outputs": [],
   "source": [
    "def sum_first_last(numbers):\n",
    "    # Пиши код здесь\n",
    "    pass"
   ]
  },
  {
   "cell_type": "code",
   "execution_count": 67,
   "metadata": {},
   "outputs": [],
   "source": [
    "# Решение\n",
    "def sum_first_last(numbers: list) -> int:\n",
    "    return numbers[0] + numbers[-1]"
   ]
  },
  {
   "cell_type": "code",
   "execution_count": 68,
   "metadata": {},
   "outputs": [],
   "source": [
    "# Тест\n",
    "assert(sum_first_last([1, 2, 3]) == 4)\n",
    "assert(sum_first_last([13, 2, 44]) == 57)\n",
    "assert(sum_first_last([13, 92, 34]) == 47)\n",
    "# Напиши свои тесты"
   ]
  },
  {
   "cell_type": "markdown",
   "metadata": {},
   "source": [
    "#### Задача 5. Min number in a list"
   ]
  },
  {
   "cell_type": "code",
   "execution_count": null,
   "metadata": {},
   "outputs": [],
   "source": []
  },
  {
   "cell_type": "markdown",
   "metadata": {},
   "source": [
    "#### (Extra) Задача 6. Fibonacci numbers"
   ]
  },
  {
   "cell_type": "code",
   "execution_count": null,
   "metadata": {},
   "outputs": [],
   "source": []
  },
  {
   "cell_type": "markdown",
   "metadata": {},
   "source": [
    "#### (Extra) Задача 7. Factorial"
   ]
  },
  {
   "cell_type": "code",
   "execution_count": null,
   "metadata": {},
   "outputs": [],
   "source": []
  },
  {
   "cell_type": "markdown",
   "metadata": {},
   "source": [
    "#### (Extra) Задача 8. "
   ]
  },
  {
   "cell_type": "code",
   "execution_count": null,
   "metadata": {},
   "outputs": [],
   "source": []
  }
 ],
 "metadata": {
  "kernelspec": {
   "display_name": "Python 3",
   "language": "python",
   "name": "python3"
  },
  "language_info": {
   "codemirror_mode": {
    "name": "ipython",
    "version": 3
   },
   "file_extension": ".py",
   "mimetype": "text/x-python",
   "name": "python",
   "nbconvert_exporter": "python",
   "pygments_lexer": "ipython3",
   "version": "3.6.8"
  }
 },
 "nbformat": 4,
 "nbformat_minor": 2
}
