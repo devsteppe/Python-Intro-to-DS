{
 "cells": [
  {
   "cell_type": "markdown",
   "metadata": {},
   "source": [
    "# Collection in Python"
   ]
  },
  {
   "cell_type": "markdown",
   "metadata": {},
   "source": [
    "Иногда нам необходимо использовать некоторые объекты (числа, имена, города и тд) вместе для совместного их <b>анализа, сравнения или других операций.</b>\n",
    "<br>Например, у нас есть баллы учеников в экзамене: <b>89, 98, 34, 45, 67, ...</b>. И мы хотим узнать наибольший, наименьший, средний баллы учеников.\n",
    "<br>Нам нужно хранить их в одном месте, рядом, чтобы их было удобно читать, сравнивать, суммировать и т.д.\n",
    "<br>В Python для таких задач есть <b>контейнеры</b> - структура данных для хранения объектов в удобной форме, месте по определенным правилам.\n"
   ]
  },
  {
   "cell_type": "markdown",
   "metadata": {},
   "source": [
    "В Python есть несколько типов контейнеров, которые отличаются по следующим свойствам:\n",
    "* <b>Mutable</b> - изменяемый\n",
    "* <b>Ordered</b> - упорядоченный\n",
    "* <b>Allows duplicates</b> - может иметь дубликаты"
   ]
  },
  {
   "cell_type": "markdown",
   "metadata": {},
   "source": [
    "## 1. Lists"
   ]
  },
  {
   "cell_type": "markdown",
   "metadata": {},
   "source": [
    "List - упорядоченный, индексированный, изменяемый тип контейнера\n",
    "* <b>Mutable</b> \n",
    "* <b>Ordered</b> --> <b>Indexed</b>\n",
    "* <b>Allows duplicates</b> \n",
    "\n",
    "List objects is the most general sequence provided by the labguage. Thety are positionally ordered collections of arbitrarily tuped objects and they have no fixed size. They are mutable and can be modified. \n"
   ]
  },
  {
   "cell_type": "code",
   "execution_count": 12,
   "metadata": {},
   "outputs": [],
   "source": [
    "L=[1232,'paris',[1,2,3],12.4]"
   ]
  },
  {
   "cell_type": "code",
   "execution_count": 17,
   "metadata": {},
   "outputs": [
    {
     "data": {
      "text/plain": [
       "12.4"
      ]
     },
     "execution_count": 17,
     "metadata": {},
     "output_type": "execute_result"
    }
   ],
   "source": [
    "L[3]"
   ]
  },
  {
   "cell_type": "code",
   "execution_count": 18,
   "metadata": {},
   "outputs": [
    {
     "data": {
      "text/plain": [
       "12.4"
      ]
     },
     "execution_count": 18,
     "metadata": {},
     "output_type": "execute_result"
    }
   ],
   "source": [
    "L[-1] # last element"
   ]
  },
  {
   "cell_type": "code",
   "execution_count": 19,
   "metadata": {},
   "outputs": [
    {
     "data": {
      "text/plain": [
       "[1232, 'paris', [1, 2, 3]]"
      ]
     },
     "execution_count": 19,
     "metadata": {},
     "output_type": "execute_result"
    }
   ],
   "source": [
    "L[:-1]  # slicing"
   ]
  },
  {
   "cell_type": "code",
   "execution_count": 20,
   "metadata": {},
   "outputs": [],
   "source": [
    "L.append('london') # append to last position"
   ]
  },
  {
   "cell_type": "code",
   "execution_count": 21,
   "metadata": {},
   "outputs": [
    {
     "data": {
      "text/plain": [
       "[1232, 'paris', [1, 2, 3], 12.4, 'london']"
      ]
     },
     "execution_count": 21,
     "metadata": {},
     "output_type": "execute_result"
    }
   ],
   "source": [
    "L"
   ]
  },
  {
   "cell_type": "code",
   "execution_count": 22,
   "metadata": {},
   "outputs": [
    {
     "data": {
      "text/plain": [
       "'london'"
      ]
     },
     "execution_count": 22,
     "metadata": {},
     "output_type": "execute_result"
    }
   ],
   "source": [
    "L.pop(4) # delete item at given offset"
   ]
  },
  {
   "cell_type": "code",
   "execution_count": 24,
   "metadata": {},
   "outputs": [
    {
     "data": {
      "text/plain": [
       "[1232, 'paris', [1, 2, 3], 12.4]"
      ]
     },
     "execution_count": 24,
     "metadata": {},
     "output_type": "execute_result"
    }
   ],
   "source": [
    "L"
   ]
  },
  {
   "cell_type": "code",
   "execution_count": 26,
   "metadata": {},
   "outputs": [
    {
     "ename": "IndexError",
     "evalue": "list index out of range",
     "output_type": "error",
     "traceback": [
      "\u001b[0;31m---------------------------------------------------------------------------\u001b[0m",
      "\u001b[0;31mIndexError\u001b[0m                                Traceback (most recent call last)",
      "\u001b[0;32m<ipython-input-26-b1b3931378fa>\u001b[0m in \u001b[0;36m<module>\u001b[0;34m\u001b[0m\n\u001b[0;32m----> 1\u001b[0;31m \u001b[0mL\u001b[0m\u001b[0;34m[\u001b[0m\u001b[0;36m100\u001b[0m\u001b[0;34m]\u001b[0m  \u001b[0;31m#indexing off the end of a list gives error\u001b[0m\u001b[0;34m\u001b[0m\u001b[0;34m\u001b[0m\u001b[0m\n\u001b[0m",
      "\u001b[0;31mIndexError\u001b[0m: list index out of range"
     ]
    }
   ],
   "source": [
    "L[100]  #indexing off the end of a list gives error"
   ]
  },
  {
   "cell_type": "markdown",
   "metadata": {},
   "source": [
    "### Nesting\n",
    "\n",
    "Python supports nesting in list. We can nest in any combination, as deep as we want "
   ]
  },
  {
   "cell_type": "code",
   "execution_count": 60,
   "metadata": {},
   "outputs": [],
   "source": [
    "M=[[1,2,3],\n",
    "   [4,5,6], \n",
    "   [7,8,9]]  # 2 by 3 matrix "
   ]
  },
  {
   "cell_type": "code",
   "execution_count": 33,
   "metadata": {},
   "outputs": [
    {
     "data": {
      "text/plain": [
       "[7, 8, 9]"
      ]
     },
     "execution_count": 33,
     "metadata": {},
     "output_type": "execute_result"
    }
   ],
   "source": [
    "M[2]  # selecting rows"
   ]
  },
  {
   "cell_type": "code",
   "execution_count": 35,
   "metadata": {},
   "outputs": [
    {
     "data": {
      "text/plain": [
       "7"
      ]
     },
     "execution_count": 35,
     "metadata": {},
     "output_type": "execute_result"
    }
   ],
   "source": [
    "M[2][0]  # select from row 3 and first element"
   ]
  },
  {
   "cell_type": "markdown",
   "metadata": {},
   "source": [
    "### Lisf Comprehension\n",
    "Very powerful way to structure matrixes. List comprehension gives substantial processing speed and very useful in practice\n"
   ]
  },
  {
   "cell_type": "code",
   "execution_count": 51,
   "metadata": {},
   "outputs": [],
   "source": [
    "# lets extract second column with list comprehension. Give me row[1] for each row in matrix in a new list\n",
    "col2=[row[1] for row in M]\n"
   ]
  },
  {
   "cell_type": "code",
   "execution_count": 50,
   "metadata": {},
   "outputs": [
    {
     "data": {
      "text/plain": [
       "[2, 5, 8]"
      ]
     },
     "execution_count": 50,
     "metadata": {},
     "output_type": "execute_result"
    }
   ],
   "source": [
    "col2"
   ]
  },
  {
   "cell_type": "code",
   "execution_count": 52,
   "metadata": {},
   "outputs": [],
   "source": [
    "col2=[row[1]*2 for row in M]  #multiply each item in column2"
   ]
  },
  {
   "cell_type": "code",
   "execution_count": 53,
   "metadata": {},
   "outputs": [
    {
     "data": {
      "text/plain": [
       "[4, 10, 16]"
      ]
     },
     "execution_count": 53,
     "metadata": {},
     "output_type": "execute_result"
    }
   ],
   "source": [
    "col2"
   ]
  },
  {
   "cell_type": "code",
   "execution_count": 54,
   "metadata": {},
   "outputs": [],
   "source": [
    "col3=[row[2] for row in M if row[2]%2==0]  #filter odd numbers"
   ]
  },
  {
   "cell_type": "code",
   "execution_count": 55,
   "metadata": {},
   "outputs": [
    {
     "data": {
      "text/plain": [
       "[6]"
      ]
     },
     "execution_count": 55,
     "metadata": {},
     "output_type": "execute_result"
    }
   ],
   "source": [
    "col3"
   ]
  },
  {
   "cell_type": "code",
   "execution_count": 62,
   "metadata": {},
   "outputs": [
    {
     "data": {
      "text/plain": [
       "[[1, 2, 3], [4, 5, 6], [7, 8, 9]]"
      ]
     },
     "execution_count": 62,
     "metadata": {},
     "output_type": "execute_result"
    }
   ],
   "source": [
    "M"
   ]
  },
  {
   "cell_type": "code",
   "execution_count": 66,
   "metadata": {},
   "outputs": [],
   "source": [
    "diag=[M[i][i] for i in [0,1,2]]  # in row M[0][0], M[1][1],M[2][2] this collects diagonal in matrix"
   ]
  },
  {
   "cell_type": "code",
   "execution_count": 67,
   "metadata": {},
   "outputs": [
    {
     "data": {
      "text/plain": [
       "[1, 5, 9]"
      ]
     },
     "execution_count": 67,
     "metadata": {},
     "output_type": "execute_result"
    }
   ],
   "source": [
    "diag"
   ]
  },
  {
   "cell_type": "code",
   "execution_count": 68,
   "metadata": {},
   "outputs": [],
   "source": [
    "doub=[f*3 for f in 'paris']"
   ]
  },
  {
   "cell_type": "code",
   "execution_count": 69,
   "metadata": {},
   "outputs": [
    {
     "data": {
      "text/plain": [
       "['ppp', 'aaa', 'rrr', 'iii', 'sss']"
      ]
     },
     "execution_count": 69,
     "metadata": {},
     "output_type": "execute_result"
    }
   ],
   "source": [
    "doub"
   ]
  },
  {
   "cell_type": "code",
   "execution_count": 70,
   "metadata": {},
   "outputs": [],
   "source": [
    "j=list(range(5))"
   ]
  },
  {
   "cell_type": "code",
   "execution_count": 71,
   "metadata": {},
   "outputs": [
    {
     "data": {
      "text/plain": [
       "[0, 1, 2, 3, 4]"
      ]
     },
     "execution_count": 71,
     "metadata": {},
     "output_type": "execute_result"
    }
   ],
   "source": [
    "j"
   ]
  },
  {
   "cell_type": "code",
   "execution_count": 72,
   "metadata": {},
   "outputs": [],
   "source": [
    "h=list(range(-10,10,2)) # from -10 to +10 step 2"
   ]
  },
  {
   "cell_type": "code",
   "execution_count": 73,
   "metadata": {},
   "outputs": [
    {
     "data": {
      "text/plain": [
       "[-10, -8, -6, -4, -2, 0, 2, 4, 6, 8]"
      ]
     },
     "execution_count": 73,
     "metadata": {},
     "output_type": "execute_result"
    }
   ],
   "source": [
    "h"
   ]
  },
  {
   "cell_type": "code",
   "execution_count": 76,
   "metadata": {},
   "outputs": [
    {
     "data": {
      "text/plain": [
       "[[0, 0], [1, 1], [8, 16]]"
      ]
     },
     "execution_count": 76,
     "metadata": {},
     "output_type": "execute_result"
    }
   ],
   "source": [
    "[[i**3,i**4] for i in range(3)]  # for range of 0,1,2,3"
   ]
  },
  {
   "cell_type": "code",
   "execution_count": 81,
   "metadata": {},
   "outputs": [
    {
     "data": {
      "text/plain": [
       "<generator object <genexpr> at 0x110a35450>"
      ]
     },
     "execution_count": 81,
     "metadata": {},
     "output_type": "execute_result"
    }
   ],
   "source": [
    "S=(sum(row)for row in M)\n",
    "S"
   ]
  },
  {
   "cell_type": "code",
   "execution_count": 3,
   "metadata": {},
   "outputs": [
    {
     "name": "stdout",
     "output_type": "stream",
     "text": [
      "Empty List:\n",
      "  Length: 0\n",
      "  Elements: []\n",
      "Nonempty List:\n",
      "  Length: 5\n",
      "  Elements: [11, -21, 43, 4, -5]\n"
     ]
    }
   ],
   "source": [
    "# Объявление пустого списка\n",
    "empty_list = []\n",
    "# Список с элементами\n",
    "other_list = [11, -21, 43, 4, -5]\n",
    "print('Empty List:\\n  Length: {}\\n  Elements: {}'.format(len(empty_list), empty_list))\n",
    "print('Nonempty List:\\n  Length: {}\\n  Elements: {}'.format(len(other_list), other_list))"
   ]
  },
  {
   "cell_type": "markdown",
   "metadata": {},
   "source": [
    "<b>В List могут храниться элементы разных типов данных</b>"
   ]
  },
  {
   "cell_type": "code",
   "execution_count": 116,
   "metadata": {},
   "outputs": [
    {
     "name": "stdout",
     "output_type": "stream",
     "text": [
      "Length: 3\n",
      "Elements: ['some_string', 12, True]\n"
     ]
    }
   ],
   "source": [
    "some_list = [\"some_string\", 12, True] # строка, целое число и boolean\n",
    "print('Length: {}\\nElements: {}'.format(len(some_list), some_list))"
   ]
  },
  {
   "cell_type": "code",
   "execution_count": 117,
   "metadata": {},
   "outputs": [
    {
     "name": "stdout",
     "output_type": "stream",
     "text": [
      "Length: 3\n",
      "Elements: [1, 33, ['one', 'two']]\n"
     ]
    }
   ],
   "source": [
    "# Даже другой List\n",
    "nested_list = [1, 33, ['one', 'two']]\n",
    "print('Length: {}\\nElements: {}'.format(len(nested_list), nested_list))"
   ]
  },
  {
   "cell_type": "markdown",
   "metadata": {},
   "source": [
    "<b>Элементы в List хранятся по порядку и достаются по их индексам</b>"
   ]
  },
  {
   "cell_type": "code",
   "execution_count": 2,
   "metadata": {},
   "outputs": [
    {
     "name": "stdout",
     "output_type": "stream",
     "text": [
      "Первый: Astana\n",
      "Второй: Moscow\n",
      "Последний(четвертый): Paris\n",
      "Третий с конца(второй): Moscow\n"
     ]
    }
   ],
   "source": [
    "# Прочитать значение по индексу\n",
    "capitals = ['Astana', 'Moscow', 'Berlin', 'Paris']\n",
    "# Индексы      0         1         2         3         \n",
    "# Длина = 4 (4 элемента) и индексу от 0 до 3\n",
    "\n",
    "first = capitals[0] # Первый элемент\n",
    "second = capitals[1] # Второй элемент\n",
    "last = capitals[3] # Последний элемент\n",
    "# last = capitals[-1] # Можно так же\n",
    "third_from_end = capitals[-3] # Третий с конца\n",
    "\n",
    "print(f\"Первый: {first}\")\n",
    "print(f\"Второй: {second}\")\n",
    "print(f\"Последний(четвертый): {last}\")\n",
    "print(f\"Третий с конца(второй): {third_from_end}\")"
   ]
  },
  {
   "cell_type": "code",
   "execution_count": 122,
   "metadata": {},
   "outputs": [
    {
     "name": "stdout",
     "output_type": "stream",
     "text": [
      "Almaty нет в списке столиц\n",
      "Astana есть в списке столиц\n"
     ]
    }
   ],
   "source": [
    "# Проверка наличия элемента в списке\n",
    "my_city = 'Almaty'\n",
    "your_city = 'Astana'\n",
    "if my_city in capitals:\n",
    "    print(f'{my_city} есть в списке столиц')\n",
    "else:\n",
    "    print(f'{my_city} нет в списке столиц')\n",
    "if your_city in capitals:\n",
    "    print(f'{your_city} есть в списке столиц')\n",
    "else:\n",
    "    print(f'{my_city} нет в списке столиц')"
   ]
  },
  {
   "cell_type": "code",
   "execution_count": 123,
   "metadata": {},
   "outputs": [
    {
     "name": "stdout",
     "output_type": "stream",
     "text": [
      "Astana\n",
      "Moscow\n",
      "Berlin\n",
      "Paris\n"
     ]
    }
   ],
   "source": [
    "# Iterating - перечисление элементов\n",
    "for city in capitals:\n",
    "    print(city)\n",
    "\n",
    "def print_all(some_list: list):\n",
    "    for item in some_list:\n",
    "        print(item)"
   ]
  },
  {
   "cell_type": "code",
   "execution_count": 124,
   "metadata": {},
   "outputs": [
    {
     "name": "stdout",
     "output_type": "stream",
     "text": [
      "Astana\n",
      "Moscow\n",
      "Berlin\n",
      "Paris\n",
      "London\n"
     ]
    }
   ],
   "source": [
    "# Добавление одного элемента к концу списка\n",
    "capitals.append('London')\n",
    "print_all(capitals)"
   ]
  },
  {
   "cell_type": "code",
   "execution_count": 101,
   "metadata": {},
   "outputs": [
    {
     "name": "stdout",
     "output_type": "stream",
     "text": [
      "Astana\n",
      "Moscow\n",
      "Berlin\n",
      "Paris\n",
      "London\n",
      "Minsk\n",
      "Tokyo\n"
     ]
    }
   ],
   "source": [
    "# Добавление нескольких элементов к концу списка\n",
    "capitals.extend(['Minsk', 'Tokyo'])\n",
    "print_all(capitals)"
   ]
  },
  {
   "cell_type": "code",
   "execution_count": 125,
   "metadata": {},
   "outputs": [
    {
     "name": "stdout",
     "output_type": "stream",
     "text": [
      "Astana\n",
      "Bishkek\n",
      "Moscow\n",
      "Berlin\n",
      "Paris\n",
      "London\n"
     ]
    }
   ],
   "source": [
    "# Добавление элемента в указанный индекс\n",
    "index = 1\n",
    "elem = 'Bishkek'\n",
    "capitals.insert(index, elem)\n",
    "print_all(capitals)\n",
    "# Обратите внимание на то что все элементы после index=1 сдвинулись на один индекс к концу "
   ]
  },
  {
   "cell_type": "code",
   "execution_count": 126,
   "metadata": {},
   "outputs": [
    {
     "name": "stdout",
     "output_type": "stream",
     "text": [
      "Astana\n",
      "Moscow\n",
      "Berlin\n",
      "Paris\n",
      "London\n"
     ]
    }
   ],
   "source": [
    "# Удаление из списка по индексу\n",
    "removed_item = capitals.pop(1) # удали элемент по индексу 1 со списка и верни его значение\n",
    "print_all(capitals)\n",
    "removed_item = capitals.pop() # если индекс не указан, то удаляется последний элемент списка"
   ]
  },
  {
   "cell_type": "code",
   "execution_count": 129,
   "metadata": {},
   "outputs": [
    {
     "name": "stdout",
     "output_type": "stream",
     "text": [
      "Astana\n",
      "Moscow\n",
      "Berlin\n",
      "Paris\n"
     ]
    }
   ],
   "source": [
    "# Копирование списка\n",
    "capitals_copy = capitals.copy()\n",
    "print_all(capitals_copy)"
   ]
  },
  {
   "cell_type": "code",
   "execution_count": 132,
   "metadata": {},
   "outputs": [],
   "source": [
    "capitals2 = capitals"
   ]
  },
  {
   "cell_type": "code",
   "execution_count": 133,
   "metadata": {},
   "outputs": [
    {
     "name": "stdout",
     "output_type": "stream",
     "text": [
      "140696449355016 140696449355016\n"
     ]
    }
   ],
   "source": [
    "print(id(capitals2),id(capitals))"
   ]
  },
  {
   "cell_type": "code",
   "execution_count": 134,
   "metadata": {},
   "outputs": [],
   "source": [
    "# Удаление всех элементов списка\n",
    "capitals_copy.clear()\n",
    "print_all(capitals_copy)"
   ]
  },
  {
   "cell_type": "code",
   "execution_count": null,
   "metadata": {},
   "outputs": [],
   "source": []
  },
  {
   "cell_type": "code",
   "execution_count": 70,
   "metadata": {},
   "outputs": [],
   "source": [
    "# Slicing"
   ]
  },
  {
   "cell_type": "markdown",
   "metadata": {},
   "source": [
    "Полный список методов для списков - https://docs.python.org/3.7/tutorial/datastructures.html?highlight=list"
   ]
  },
  {
   "cell_type": "markdown",
   "metadata": {},
   "source": [
    "#### 2. Sets"
   ]
  },
  {
   "cell_type": "markdown",
   "metadata": {},
   "source": [
    "Set - неупорядоченная, неиндексированная коллекция уникальных объектов\n",
    "* <b>Immutable</b> \n",
    "* <b>Unordered</b> --> <b>Not indexed</b>\n",
    "* <b>Does not allow duplicates</b> "
   ]
  },
  {
   "cell_type": "code",
   "execution_count": 5,
   "metadata": {},
   "outputs": [
    {
     "name": "stdout",
     "output_type": "stream",
     "text": [
      "Empty Set:\n",
      "  Length: 0\n",
      "  Elements: set()\n",
      "Nonempty Set:\n",
      "  Length: 5\n",
      "  Elements: {4, 43, 11, -21, -5}\n"
     ]
    }
   ],
   "source": [
    "# Объявление пустого множества\n",
    "empty_set = set() # not {}\n",
    "# Множество с элементами\n",
    "other_set = {11, -21, 43, 4, -5}\n",
    "print('Empty Set:\\n  Length: {}\\n  Elements: {}'.format(len(empty_set), empty_set))\n",
    "print('Nonempty Set:\\n  Length: {}\\n  Elements: {}'.format(len(other_set), other_set))"
   ]
  },
  {
   "cell_type": "markdown",
   "metadata": {},
   "source": [
    "<b>В Set также могут храниться элементы разных типов данных</b>"
   ]
  },
  {
   "cell_type": "code",
   "execution_count": 11,
   "metadata": {},
   "outputs": [
    {
     "name": "stdout",
     "output_type": "stream",
     "text": [
      "Length: 3\n",
      "Elements: {True, 'some_string', 12}\n"
     ]
    }
   ],
   "source": [
    "some_set = {\"some_string\", 12, True} # строка, целое число и boolean\n",
    "print('Length: {}\\nElements: {}'.format(len(some_set), some_set))"
   ]
  },
  {
   "cell_type": "markdown",
   "metadata": {},
   "source": [
    "Но не можем хранить внутри Set другие коллекции как list, set, dict - они unhashable!\n",
    "<br>Подробнее: http://net-informations.com/python/iq/unhashable.htm"
   ]
  },
  {
   "cell_type": "code",
   "execution_count": 23,
   "metadata": {},
   "outputs": [
    {
     "data": {
      "text/plain": [
       "{(1, 3, 3), 1, 2}"
      ]
     },
     "execution_count": 23,
     "metadata": {},
     "output_type": "execute_result"
    }
   ],
   "source": [
    "# можно хранить tuple. tuple - hashable\n",
    "t = (1, 3, 3)\n",
    "s = {1, 2, t}\n",
    "s"
   ]
  },
  {
   "cell_type": "code",
   "execution_count": 24,
   "metadata": {},
   "outputs": [
    {
     "data": {
      "text/plain": [
       "3"
      ]
     },
     "execution_count": 24,
     "metadata": {},
     "output_type": "execute_result"
    }
   ],
   "source": [
    "# длина множества = количество элементов\n",
    "set_length = len(s)\n",
    "set_length"
   ]
  },
  {
   "cell_type": "code",
   "execution_count": 42,
   "metadata": {},
   "outputs": [
    {
     "name": "stdout",
     "output_type": "stream",
     "text": [
      "нет\n"
     ]
    }
   ],
   "source": [
    "# Проверка наличия элемента во множества\n",
    "s = {'a', 'b', 'c'}\n",
    "if 'я' in s:\n",
    "    print('есть')\n",
    "else:\n",
    "    print('нет')"
   ]
  },
  {
   "cell_type": "code",
   "execution_count": 28,
   "metadata": {},
   "outputs": [
    {
     "name": "stdout",
     "output_type": "stream",
     "text": [
      "{'a', 'c', 'b'}\n",
      "{'a', 'c', 'd', 'b'}\n",
      "{'a', 'c', 'd', 'b'}\n"
     ]
    }
   ],
   "source": [
    "# Добавить один элемент\n",
    "s = {'a', 'b', 'c'}\n",
    "print(s)\n",
    "s.add('d')\n",
    "print(s)\n",
    "s.add('a')\n",
    "print(s)"
   ]
  },
  {
   "cell_type": "code",
   "execution_count": 34,
   "metadata": {},
   "outputs": [
    {
     "name": "stdout",
     "output_type": "stream",
     "text": [
      "{'a', 'c', 'b'}\n",
      "{'c', 'e', 'd', 'b', 'a', 'f'}\n",
      "{'h', 'c', 'i', 'e', 'z', 'd', 'n', 'b', 'k', 'a', 'f'}\n",
      "{'h', 'c', 'i', 1, 2, 3, 'e', 'z', 'd', 'n', 'b', 'k', 'a', 'f'}\n"
     ]
    }
   ],
   "source": [
    "# Добавить несколько элементов\n",
    "s = {'a', 'b', 'c'}\n",
    "print(s)\n",
    "s.update(['d', 'e', 'f'])\n",
    "print(s)\n",
    "s.update('zhanibek')\n",
    "print(s)\n",
    "s.update({1, 2, 3})\n",
    "print(s)"
   ]
  },
  {
   "cell_type": "code",
   "execution_count": 40,
   "metadata": {},
   "outputs": [
    {
     "name": "stdout",
     "output_type": "stream",
     "text": [
      "{'a', 'c', 'b'}\n",
      "{'c', 'b'}\n",
      "{'c', 'b'}\n"
     ]
    }
   ],
   "source": [
    "# Удалить элемент\n",
    "s = {'a', 'b', 'c'}\n",
    "print(s)\n",
    "s.remove('a')\n",
    "print(s)\n",
    "s.discard('z')\n",
    "# s.remove('z') # KeyError\n",
    "print(s)"
   ]
  },
  {
   "cell_type": "code",
   "execution_count": 59,
   "metadata": {},
   "outputs": [
    {
     "name": "stdout",
     "output_type": "stream",
     "text": [
      "{'t', 's', 'v'}\n",
      "t\n",
      "s\n",
      "v\n"
     ]
    }
   ],
   "source": [
    "# Вытащить случайный элемент из множества\n",
    "s = {'v', 's', 't'}\n",
    "print(s)\n",
    "elem = s.pop()\n",
    "print(elem)\n",
    "elem = s.pop()\n",
    "print(elem)\n",
    "elem = s.pop()\n",
    "print(elem)\n",
    "# elem = s.pop() # KeyError\n",
    "# print(elem)"
   ]
  },
  {
   "cell_type": "code",
   "execution_count": 63,
   "metadata": {},
   "outputs": [
    {
     "name": "stdout",
     "output_type": "stream",
     "text": [
      "Изначально: {'t', 's', 'v'}\n",
      "После clear(): set()\n"
     ]
    }
   ],
   "source": [
    "# Убрать все элементы со множества\n",
    "s = {'v', 's', 't'}\n",
    "print(f'Изначально: {s}')\n",
    "s.clear()\n",
    "print(f'После clear(): {s}')"
   ]
  },
  {
   "cell_type": "code",
   "execution_count": null,
   "metadata": {},
   "outputs": [],
   "source": []
  },
  {
   "cell_type": "markdown",
   "metadata": {},
   "source": [
    "#### 3. Dicts"
   ]
  },
  {
   "cell_type": "markdown",
   "metadata": {},
   "source": [
    "#### 4. Tuples"
   ]
  },
  {
   "cell_type": "markdown",
   "metadata": {},
   "source": [
    "#### 5. Summary"
   ]
  },
  {
   "cell_type": "code",
   "execution_count": null,
   "metadata": {},
   "outputs": [],
   "source": []
  }
 ],
 "metadata": {
  "kernelspec": {
   "display_name": "Python 3",
   "language": "python",
   "name": "python3"
  },
  "language_info": {
   "codemirror_mode": {
    "name": "ipython",
    "version": 3
   },
   "file_extension": ".py",
   "mimetype": "text/x-python",
   "name": "python",
   "nbconvert_exporter": "python",
   "pygments_lexer": "ipython3",
   "version": "3.7.4"
  }
 },
 "nbformat": 4,
 "nbformat_minor": 2
}
