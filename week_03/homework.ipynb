{
 "cells": [
  {
   "cell_type": "markdown",
   "metadata": {},
   "source": [
    "### Homework 3: Функции"
   ]
  },
  {
   "cell_type": "markdown",
   "metadata": {},
   "source": [
    "#### Задача 1. Sum of three numbers \n",
    "   У вас есть три целые числа <b>a, b, c</b>.<br>\n",
    "   Напишите функцию, которое находит сумму этих трех чисел.<br>\n",
    "<b>На входе</b>: \n",
    "    a, b, c - int variables <br>\n",
    "<b>На выходе</b>:\n",
    "    summ - сумма чисел<br>"
   ]
  },
  {
   "cell_type": "code",
   "execution_count": 53,
   "metadata": {},
   "outputs": [],
   "source": [
    "def sum_of_three(a, b, c): # Не забудь про type hinting\n",
    "    # Пиши код здесь\n",
    "    pass"
   ]
  },
  {
   "cell_type": "code",
   "execution_count": 54,
   "metadata": {},
   "outputs": [],
   "source": [
    "# Решение\n",
    "def sum_of_three(a: int, b: int, c: int) -> int:\n",
    "    return a + b + c"
   ]
  },
  {
   "cell_type": "code",
   "execution_count": 55,
   "metadata": {},
   "outputs": [],
   "source": [
    "# Тест\n",
    "assert(sum_of_three(7, 6, 6) == 19)\n",
    "assert(sum_of_three(3, 3, 3) == sum_of_three(8, 1, 0))\n",
    "# Напиши свои тесты"
   ]
  },
  {
   "cell_type": "markdown",
   "metadata": {},
   "source": [
    "#### Задача 2. Find the length of a string\n",
    "   Напишите функцию, которое находит длину данной строки.<br>\n",
    "<b>На входе</b>: \n",
    "    string - str variable <br>\n",
    "<b>На выходе</b>:\n",
    "    n - длина строки<br>"
   ]
  },
  {
   "cell_type": "code",
   "execution_count": 56,
   "metadata": {},
   "outputs": [],
   "source": [
    "def str_len(string):\n",
    "    # Пиши код здесь\n",
    "    pass"
   ]
  },
  {
   "cell_type": "code",
   "execution_count": 57,
   "metadata": {},
   "outputs": [],
   "source": [
    "# Решение\n",
    "def str_len(string: str) -> int:\n",
    "    return len(string)"
   ]
  },
  {
   "cell_type": "code",
   "execution_count": 60,
   "metadata": {},
   "outputs": [],
   "source": [
    "# Тест\n",
    "assert(str_len(\"great britain\") == 13)\n",
    "assert(str_len(\"Kazakstan\") == 9)\n",
    "assert(str_len(\"mama\") == str_len(\"papa\"))\n",
    "# Напиши свои тесты"
   ]
  },
  {
   "cell_type": "markdown",
   "metadata": {},
   "source": [
    "#### Задача 3. Print the last char of a string\n",
    "   Напишите функцию, которое возвращает последнюю букву строки.<br>\n",
    "<b>На входе</b>: \n",
    "    string - str variable<br>\n",
    "<b>На выходе</b>:\n",
    "    letter - последняя буква строки<br>"
   ]
  },
  {
   "cell_type": "code",
   "execution_count": 61,
   "metadata": {},
   "outputs": [],
   "source": [
    "def last_char(string):\n",
    "    # Пиши код здесь\n",
    "    pass"
   ]
  },
  {
   "cell_type": "code",
   "execution_count": 62,
   "metadata": {},
   "outputs": [],
   "source": [
    "# Решение\n",
    "def last_char(string: str) -> str:\n",
    "#     l = len(string)\n",
    "#     return string[l-1]\n",
    "    return string[-1]"
   ]
  },
  {
   "cell_type": "code",
   "execution_count": 63,
   "metadata": {},
   "outputs": [],
   "source": [
    "# Тест\n",
    "assert(last_char(\"Zhanibek\") == 'k')\n",
    "assert(last_char(\"devsteppe\") == 'e')\n",
    "assert(last_char(\"Arman\") == 'n')\n",
    "# Напиши свои тесты"
   ]
  },
  {
   "cell_type": "markdown",
   "metadata": {},
   "source": [
    "#### Задача 4. Sum the first and last element in a list\n",
    "   У вас есть список целых чисел <b>numbers</b>.<br>\n",
    "   Напишите функцию, которое находит сумму первого и последнего элементов списка.<br>\n",
    "<b>На входе</b>: \n",
    "    numbers - list <br>\n",
    "<b>На выходе</b>:\n",
    "    summ - сумма первого и последнего элементов списка<br>"
   ]
  },
  {
   "cell_type": "code",
   "execution_count": 66,
   "metadata": {},
   "outputs": [],
   "source": [
    "def sum_first_last(numbers):\n",
    "    # Пиши код здесь\n",
    "    pass"
   ]
  },
  {
   "cell_type": "code",
   "execution_count": 67,
   "metadata": {},
   "outputs": [],
   "source": [
    "# Решение\n",
    "def sum_first_last(numbers: list) -> int:\n",
    "    return numbers[0] + numbers[-1]"
   ]
  },
  {
   "cell_type": "code",
   "execution_count": 68,
   "metadata": {},
   "outputs": [],
   "source": [
    "# Тест\n",
    "assert(sum_first_last([1, 2, 3]) == 4)\n",
    "assert(sum_first_last([13, 2, 44]) == 57)\n",
    "assert(sum_first_last([13, 92, 34]) == 47)\n",
    "# Напиши свои тесты"
   ]
  },
  {
   "cell_type": "markdown",
   "metadata": {},
   "source": [
    "#### Задача 5. Min number in a list"
   ]
  },
  {
   "cell_type": "code",
   "execution_count": null,
   "metadata": {},
   "outputs": [],
   "source": []
  },
  {
   "cell_type": "markdown",
   "metadata": {},
   "source": [
    "#### (Extra) Задача 6. Fibonacci numbers"
   ]
  },
  {
   "cell_type": "code",
   "execution_count": null,
   "metadata": {},
   "outputs": [],
   "source": []
  },
  {
   "cell_type": "markdown",
   "metadata": {},
   "source": [
    "#### (Extra) Задача 7. Factorial"
   ]
  },
  {
   "cell_type": "code",
   "execution_count": null,
   "metadata": {},
   "outputs": [],
   "source": []
  },
  {
   "cell_type": "markdown",
   "metadata": {},
   "source": [
    "#### (Extra) Задача 8. "
   ]
  },
  {
   "cell_type": "code",
   "execution_count": null,
   "metadata": {},
   "outputs": [],
   "source": []
  }
 ],
 "metadata": {
  "kernelspec": {
   "display_name": "Python 3",
   "language": "python",
   "name": "python3"
  },
  "language_info": {
   "codemirror_mode": {
    "name": "ipython",
    "version": 3
   },
   "file_extension": ".py",
   "mimetype": "text/x-python",
   "name": "python",
   "nbconvert_exporter": "python",
   "pygments_lexer": "ipython3",
   "version": "3.6.8"
  }
 },
 "nbformat": 4,
 "nbformat_minor": 2
}
