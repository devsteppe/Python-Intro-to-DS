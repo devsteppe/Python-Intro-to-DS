{
 "cells": [
  {
   "cell_type": "code",
   "execution_count": 1,
   "metadata": {
    "colab": {
     "base_uri": "https://localhost:8080/",
     "height": 204
    },
    "colab_type": "code",
    "executionInfo": {
     "elapsed": 1287,
     "status": "ok",
     "timestamp": 1572377601782,
     "user": {
      "displayName": "Ben Serzhan",
      "photoUrl": "https://lh3.googleusercontent.com/a-/AAuE7mAy5dF2aPOHr7ED0oArQ5UbmHwGza74zrerj6WpWQ=s64",
      "userId": "17625021533167247416"
     },
     "user_tz": -360
    },
    "id": "31DH6Kzk3Gmx",
    "outputId": "d8f76bd9-9bce-4697-c830-4b893e6b817a"
   },
   "outputs": [
    {
     "ename": "ModuleNotFoundError",
     "evalue": "No module named 'seaborn'",
     "output_type": "error",
     "traceback": [
      "\u001b[0;31m---------------------------------------------------------------------------\u001b[0m",
      "\u001b[0;31mModuleNotFoundError\u001b[0m                       Traceback (most recent call last)",
      "\u001b[0;32m<ipython-input-1-609842259e7c>\u001b[0m in \u001b[0;36m<module>\u001b[0;34m\u001b[0m\n\u001b[0;32m----> 1\u001b[0;31m \u001b[0;32mimport\u001b[0m \u001b[0mseaborn\u001b[0m \u001b[0;32mas\u001b[0m \u001b[0msns\u001b[0m\u001b[0;34m\u001b[0m\u001b[0;34m\u001b[0m\u001b[0m\n\u001b[0m\u001b[1;32m      2\u001b[0m \u001b[0miris\u001b[0m\u001b[0;34m=\u001b[0m\u001b[0msns\u001b[0m\u001b[0;34m.\u001b[0m\u001b[0mload_dataset\u001b[0m\u001b[0;34m(\u001b[0m\u001b[0;34m'iris'\u001b[0m\u001b[0;34m)\u001b[0m\u001b[0;34m\u001b[0m\u001b[0;34m\u001b[0m\u001b[0m\n\u001b[1;32m      3\u001b[0m \u001b[0miris\u001b[0m\u001b[0;34m.\u001b[0m\u001b[0mhead\u001b[0m\u001b[0;34m(\u001b[0m\u001b[0;34m)\u001b[0m\u001b[0;34m\u001b[0m\u001b[0;34m\u001b[0m\u001b[0m\n",
      "\u001b[0;31mModuleNotFoundError\u001b[0m: No module named 'seaborn'"
     ]
    }
   ],
   "source": [
    "import seaborn as sns\n",
    "iris=sns.load_dataset('iris')\n",
    "iris.head()"
   ]
  },
  {
   "cell_type": "code",
   "execution_count": null,
   "metadata": {
    "colab": {
     "base_uri": "https://localhost:8080/",
     "height": 505
    },
    "colab_type": "code",
    "executionInfo": {
     "elapsed": 8329,
     "status": "ok",
     "timestamp": 1572377959643,
     "user": {
      "displayName": "Ben Serzhan",
      "photoUrl": "https://lh3.googleusercontent.com/a-/AAuE7mAy5dF2aPOHr7ED0oArQ5UbmHwGza74zrerj6WpWQ=s64",
      "userId": "17625021533167247416"
     },
     "user_tz": -360
    },
    "id": "9_Hq0FhTAiDy",
    "outputId": "d7fbc04b-7dc2-4218-b692-e1974475f550"
   },
   "outputs": [],
   "source": [
    "%matplotlib inline \n",
    "import seaborn as sns; sns.set()\n",
    "sns.pairplot(iris,hue='species',size=1.5)"
   ]
  },
  {
   "cell_type": "code",
   "execution_count": null,
   "metadata": {
    "colab": {
     "base_uri": "https://localhost:8080/",
     "height": 34
    },
    "colab_type": "code",
    "executionInfo": {
     "elapsed": 494,
     "status": "ok",
     "timestamp": 1572378145008,
     "user": {
      "displayName": "Ben Serzhan",
      "photoUrl": "https://lh3.googleusercontent.com/a-/AAuE7mAy5dF2aPOHr7ED0oArQ5UbmHwGza74zrerj6WpWQ=s64",
      "userId": "17625021533167247416"
     },
     "user_tz": -360
    },
    "id": "ZYsqGf8ZByWS",
    "outputId": "573992e8-c59b-4f07-fe82-22400b8f3609"
   },
   "outputs": [],
   "source": [
    "X_iris=iris.drop('species',axis=1)\n",
    "X_iris.shape"
   ]
  },
  {
   "cell_type": "code",
   "execution_count": null,
   "metadata": {
    "colab": {
     "base_uri": "https://localhost:8080/",
     "height": 34
    },
    "colab_type": "code",
    "executionInfo": {
     "elapsed": 871,
     "status": "ok",
     "timestamp": 1572378198478,
     "user": {
      "displayName": "Ben Serzhan",
      "photoUrl": "https://lh3.googleusercontent.com/a-/AAuE7mAy5dF2aPOHr7ED0oArQ5UbmHwGza74zrerj6WpWQ=s64",
      "userId": "17625021533167247416"
     },
     "user_tz": -360
    },
    "id": "bQQnPE6nCkC7",
    "outputId": "39087bff-a2be-4859-97a6-325c624e0678"
   },
   "outputs": [],
   "source": [
    "y_iris=iris['species']\n",
    "y_iris.shape"
   ]
  },
  {
   "cell_type": "code",
   "execution_count": null,
   "metadata": {
    "colab": {
     "base_uri": "https://localhost:8080/",
     "height": 268
    },
    "colab_type": "code",
    "executionInfo": {
     "elapsed": 864,
     "status": "ok",
     "timestamp": 1572378530229,
     "user": {
      "displayName": "Ben Serzhan",
      "photoUrl": "https://lh3.googleusercontent.com/a-/AAuE7mAy5dF2aPOHr7ED0oArQ5UbmHwGza74zrerj6WpWQ=s64",
      "userId": "17625021533167247416"
     },
     "user_tz": -360
    },
    "id": "PlJV_X_nCz4r",
    "outputId": "58cd1567-83aa-43ae-cb56-a045a061b7ec"
   },
   "outputs": [],
   "source": [
    "import matplotlib.pyplot as plt\n",
    "import numpy as np\n",
    "rng=np.random.RandomState(4i2)\n",
    "x=10*rng.rand(50)\n",
    "y=2*x-1+rng.randn(50)\n",
    "plt.scatter(x,y);\n"
   ]
  },
  {
   "cell_type": "code",
   "execution_count": null,
   "metadata": {
    "colab": {
     "base_uri": "https://localhost:8080/",
     "height": 34
    },
    "colab_type": "code",
    "executionInfo": {
     "elapsed": 490,
     "status": "ok",
     "timestamp": 1572378453121,
     "user": {
      "displayName": "Ben Serzhan",
      "photoUrl": "https://lh3.googleusercontent.com/a-/AAuE7mAy5dF2aPOHr7ED0oArQ5UbmHwGza74zrerj6WpWQ=s64",
      "userId": "17625021533167247416"
     },
     "user_tz": -360
    },
    "id": "sg6HBW-mC1oL",
    "outputId": "9d533f1b-1264-4da6-c531-f0eba45cdff7"
   },
   "outputs": [],
   "source": [
    "rng"
   ]
  },
  {
   "cell_type": "code",
   "execution_count": null,
   "metadata": {
    "colab": {},
    "colab_type": "code",
    "id": "PJhosn61Dx9U"
   },
   "outputs": [],
   "source": [
    "from sklearn.linear_model import LinearRegression"
   ]
  },
  {
   "cell_type": "code",
   "execution_count": null,
   "metadata": {
    "colab": {
     "base_uri": "https://localhost:8080/",
     "height": 34
    },
    "colab_type": "code",
    "executionInfo": {
     "elapsed": 866,
     "status": "ok",
     "timestamp": 1572378807929,
     "user": {
      "displayName": "Ben Serzhan",
      "photoUrl": "https://lh3.googleusercontent.com/a-/AAuE7mAy5dF2aPOHr7ED0oArQ5UbmHwGza74zrerj6WpWQ=s64",
      "userId": "17625021533167247416"
     },
     "user_tz": -360
    },
    "id": "Q2U3I5dCEZa1",
    "outputId": "292a1a23-3007-4307-f15a-fed0348484e2"
   },
   "outputs": [],
   "source": [
    "model=LinearRegression(fit_intercept=True)\n",
    "model"
   ]
  },
  {
   "cell_type": "code",
   "execution_count": null,
   "metadata": {
    "colab": {},
    "colab_type": "code",
    "id": "z4yWrAwSFDst"
   },
   "outputs": [],
   "source": [
    "X=x[:,np.newaxis]"
   ]
  },
  {
   "cell_type": "code",
   "execution_count": null,
   "metadata": {
    "colab": {
     "base_uri": "https://localhost:8080/",
     "height": 34
    },
    "colab_type": "code",
    "executionInfo": {
     "elapsed": 953,
     "status": "ok",
     "timestamp": 1572378884677,
     "user": {
      "displayName": "Ben Serzhan",
      "photoUrl": "https://lh3.googleusercontent.com/a-/AAuE7mAy5dF2aPOHr7ED0oArQ5UbmHwGza74zrerj6WpWQ=s64",
      "userId": "17625021533167247416"
     },
     "user_tz": -360
    },
    "id": "1KXosRsjFaZf",
    "outputId": "1aea512e-1f34-414a-d27c-5ad3f8bd9eb0"
   },
   "outputs": [],
   "source": [
    "X.shape"
   ]
  },
  {
   "cell_type": "code",
   "execution_count": null,
   "metadata": {
    "colab": {
     "base_uri": "https://localhost:8080/",
     "height": 34
    },
    "colab_type": "code",
    "executionInfo": {
     "elapsed": 805,
     "status": "ok",
     "timestamp": 1572378903318,
     "user": {
      "displayName": "Ben Serzhan",
      "photoUrl": "https://lh3.googleusercontent.com/a-/AAuE7mAy5dF2aPOHr7ED0oArQ5UbmHwGza74zrerj6WpWQ=s64",
      "userId": "17625021533167247416"
     },
     "user_tz": -360
    },
    "id": "sGXwTJSDFbXG",
    "outputId": "817ee811-5ab6-49f3-afad-89373825dba9"
   },
   "outputs": [],
   "source": [
    "model.fit(X,y)"
   ]
  },
  {
   "cell_type": "code",
   "execution_count": null,
   "metadata": {
    "colab": {
     "base_uri": "https://localhost:8080/",
     "height": 34
    },
    "colab_type": "code",
    "executionInfo": {
     "elapsed": 1121,
     "status": "ok",
     "timestamp": 1572378975422,
     "user": {
      "displayName": "Ben Serzhan",
      "photoUrl": "https://lh3.googleusercontent.com/a-/AAuE7mAy5dF2aPOHr7ED0oArQ5UbmHwGza74zrerj6WpWQ=s64",
      "userId": "17625021533167247416"
     },
     "user_tz": -360
    },
    "id": "DXekvFuXFf-2",
    "outputId": "52a5e40c-6b70-4251-f5e9-e19a5b0afa45"
   },
   "outputs": [],
   "source": [
    "model.coef_\n",
    "model.intercept_"
   ]
  },
  {
   "cell_type": "code",
   "execution_count": null,
   "metadata": {
    "colab": {},
    "colab_type": "code",
    "id": "mkX90JgbFuAu"
   },
   "outputs": [],
   "source": [
    "xfit=np.linspace(-1,11)"
   ]
  },
  {
   "cell_type": "code",
   "execution_count": null,
   "metadata": {
    "colab": {
     "base_uri": "https://localhost:8080/",
     "height": 187
    },
    "colab_type": "code",
    "executionInfo": {
     "elapsed": 870,
     "status": "ok",
     "timestamp": 1572379075193,
     "user": {
      "displayName": "Ben Serzhan",
      "photoUrl": "https://lh3.googleusercontent.com/a-/AAuE7mAy5dF2aPOHr7ED0oArQ5UbmHwGza74zrerj6WpWQ=s64",
      "userId": "17625021533167247416"
     },
     "user_tz": -360
    },
    "id": "C7O7GbUiGJGv",
    "outputId": "0f47896d-8ed3-42b3-ca47-5c96604f3b09"
   },
   "outputs": [],
   "source": [
    "xfit"
   ]
  },
  {
   "cell_type": "code",
   "execution_count": null,
   "metadata": {
    "colab": {},
    "colab_type": "code",
    "id": "AkingqQoGJrH"
   },
   "outputs": [],
   "source": [
    "Xfit=xfit[:,np.newaxis]\n",
    "yfit=model.predict(Xfit)"
   ]
  },
  {
   "cell_type": "code",
   "execution_count": null,
   "metadata": {
    "colab": {
     "base_uri": "https://localhost:8080/",
     "height": 285
    },
    "colab_type": "code",
    "executionInfo": {
     "elapsed": 969,
     "status": "ok",
     "timestamp": 1572379177954,
     "user": {
      "displayName": "Ben Serzhan",
      "photoUrl": "https://lh3.googleusercontent.com/a-/AAuE7mAy5dF2aPOHr7ED0oArQ5UbmHwGza74zrerj6WpWQ=s64",
      "userId": "17625021533167247416"
     },
     "user_tz": -360
    },
    "id": "cg7WWA7aGWN_",
    "outputId": "695c3f08-e375-4561-da5a-03ae621ced42"
   },
   "outputs": [],
   "source": [
    "plt.scatter(x,y)\n",
    "plt.plot(xfit,yfit)"
   ]
  },
  {
   "cell_type": "code",
   "execution_count": null,
   "metadata": {
    "colab": {},
    "colab_type": "code",
    "id": "pYfqRKOdGfz_"
   },
   "outputs": [],
   "source": []
  }
 ],
 "metadata": {
  "colab": {
   "collapsed_sections": [],
   "name": "Copy of Scikit-Learn- Linear Regression.ipynb",
   "provenance": [
    {
     "file_id": "1QT_hVztRGANvOgrnCx-ecoC61GLQblFj",
     "timestamp": 1572379277195
    }
   ]
  },
  "kernelspec": {
   "display_name": "Python 3",
   "language": "python",
   "name": "python3"
  },
  "language_info": {
   "codemirror_mode": {
    "name": "ipython",
    "version": 3
   },
   "file_extension": ".py",
   "mimetype": "text/x-python",
   "name": "python",
   "nbconvert_exporter": "python",
   "pygments_lexer": "ipython3",
   "version": "3.7.4"
  }
 },
 "nbformat": 4,
 "nbformat_minor": 1
}
