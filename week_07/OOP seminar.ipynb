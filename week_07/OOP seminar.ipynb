{
 "cells": [
  {
   "cell_type": "markdown",
   "metadata": {},
   "source": [
    "# Object oriented programming\n",
    "\n",
    "Object has two characteristics: \n",
    "##### Attributes\n",
    "##### Behavior \n",
    "Example of attributes can be name, age, color etc. You can store values within a class \n",
    "\n",
    "\n",
    "When you hear Behavior, think of functions. Example of behavior can be walk, drive, dance, turn. It os block of code that does something.\n"
   ]
  },
  {
   "cell_type": "code",
   "execution_count": 2,
   "metadata": {},
   "outputs": [],
   "source": [
    "class User(object):\n",
    "    def full_name(self):\n",
    "        return '{} {}'.format(self.first_name, self.last_name)\n",
    "\n",
    "    def can_drive(self, age_min):\n",
    "        if self.age >= age_min:\n",
    "            return True\n",
    "        return False"
   ]
  },
  {
   "cell_type": "code",
   "execution_count": 5,
   "metadata": {},
   "outputs": [],
   "source": [
    "ben=User()\n",
    "ben.first_name='Begen'\n",
    "ben.last_name='Yussupov'\n",
    "ben.age=34\n"
   ]
  },
  {
   "cell_type": "code",
   "execution_count": 6,
   "metadata": {},
   "outputs": [
    {
     "name": "stdout",
     "output_type": "stream",
     "text": [
      "Begen Yussupov\n",
      "True\n"
     ]
    }
   ],
   "source": [
    "print(ben.full_name())\n",
    "\n",
    "print(ben.can_drive(18))"
   ]
  },
  {
   "cell_type": "markdown",
   "metadata": {},
   "source": [
    "### Special Method:   init"
   ]
  },
  {
   "cell_type": "code",
   "execution_count": 21,
   "metadata": {},
   "outputs": [
    {
     "name": "stdout",
     "output_type": "stream",
     "text": [
      "Begen Serzhan\n"
     ]
    }
   ],
   "source": [
    "class User(object):\n",
    "    def __init__(self, first_name, last_name,age):\n",
    "        self.first_name=first_name\n",
    "        self.last_name=last_name\n",
    "        self.age=age\n",
    "\n",
    "    def full_name(self):\n",
    "        return '{} {}'.format(self.first_name, self.last_name)\n",
    "        return False\n",
    "    \n",
    "    def can_drive(self, age_min):\n",
    "        if self.age >= age_min:\n",
    "            return True\n",
    "        return False\n",
    "    \n",
    "ben=User('Begen','Serzhan',23)\n",
    "print(ben.full_name())"
   ]
  },
  {
   "cell_type": "code",
   "execution_count": 20,
   "metadata": {},
   "outputs": [
    {
     "data": {
      "text/plain": [
       "True"
      ]
     },
     "execution_count": 20,
     "metadata": {},
     "output_type": "execute_result"
    }
   ],
   "source": [
    "ben.can_drive(22)"
   ]
  },
  {
   "cell_type": "code",
   "execution_count": null,
   "metadata": {},
   "outputs": [],
   "source": []
  }
 ],
 "metadata": {
  "kernelspec": {
   "display_name": "Python 3",
   "language": "python",
   "name": "python3"
  },
  "language_info": {
   "codemirror_mode": {
    "name": "ipython",
    "version": 3
   },
   "file_extension": ".py",
   "mimetype": "text/x-python",
   "name": "python",
   "nbconvert_exporter": "python",
   "pygments_lexer": "ipython3",
   "version": "3.7.4"
  }
 },
 "nbformat": 4,
 "nbformat_minor": 2
}
